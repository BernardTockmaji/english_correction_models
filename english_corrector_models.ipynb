{
 "cells": [
  {
   "cell_type": "code",
   "execution_count": 1,
   "metadata": {},
   "outputs": [
    {
     "name": "stderr",
     "output_type": "stream",
     "text": [
      "/home/elearning/miniconda3/envs/corrector-env/lib/python3.7/site-packages/tqdm/auto.py:22: TqdmWarning: IProgress not found. Please update jupyter and ipywidgets. See https://ipywidgets.readthedocs.io/en/stable/user_install.html\n",
      "  from .autonotebook import tqdm as notebook_tqdm\n"
     ]
    }
   ],
   "source": [
    "from gramformer import Gramformer\n",
    "import gradio as gr\n",
    "\n",
    "from happytransformer import HappyTextToText, TTSettings"
   ]
  },
  {
   "cell_type": "markdown",
   "metadata": {},
   "source": [
    "## Gramformer Model implemented in Gradio "
   ]
  },
  {
   "cell_type": "code",
   "execution_count": null,
   "metadata": {},
   "outputs": [],
   "source": [
    "gf = Gramformer(models=1, use_gpu=False) #1=corrector, 2=detector"
   ]
  },
  {
   "cell_type": "code",
   "execution_count": null,
   "metadata": {},
   "outputs": [],
   "source": [
    "gf.correct('hello my dear childs')"
   ]
  },
  {
   "cell_type": "markdown",
   "metadata": {},
   "source": [
    "    Function to build web application using gradio"
   ]
  },
  {
   "cell_type": "code",
   "execution_count": null,
   "metadata": {},
   "outputs": [],
   "source": [
    "def correct(sentence):\n",
    "    res = gf.correct(sentence) \n",
    "    return res\n",
    "app_inputs = gr.inputs.Textbox(lines=3, placeholder=\"Enter a grammatically incorrect sentence here...\")\n",
    "\n",
    "interface = gr.Interface(fn=correct, \n",
    "                        inputs=app_inputs,\n",
    "                         outputs='text', \n",
    "                        title='Hi there, I\\'m Gramformer')\n",
    "\n",
    "#interface.launch()"
   ]
  },
  {
   "cell_type": "markdown",
   "metadata": {},
   "source": [
    "    Gramformer highlighter"
   ]
  },
  {
   "cell_type": "code",
   "execution_count": null,
   "metadata": {},
   "outputs": [],
   "source": [
    "gh = Gramformer(models=3, use_gpu=False) #1=corrector, 2=detector"
   ]
  },
  {
   "cell_type": "code",
   "execution_count": null,
   "metadata": {},
   "outputs": [],
   "source": [
    "gh.highlight(orig='to tha store',cor='to the store')"
   ]
  },
  {
   "cell_type": "markdown",
   "metadata": {},
   "source": [
    "## Bert + Huggingface Solution"
   ]
  },
  {
   "cell_type": "code",
   "execution_count": null,
   "metadata": {},
   "outputs": [],
   "source": [
    "happy_tt = HappyTextToText(\"T5\", \"vennify/t5-base-grammar-correction\")\n",
    "args = TTSettings(num_beams=5, min_length=1)\n",
    "result = happy_tt.generate_text(\"grammar: This sentences has has bads grammar.\", args=args)\n",
    "print(result.text)"
   ]
  },
  {
   "cell_type": "code",
   "execution_count": null,
   "metadata": {},
   "outputs": [],
   "source": [
    "def huggingface_corrector(text):\n",
    "    result = happy_tt.generate_text('grammar: ' + text, args=TTSettings(num_beams=1, min_length=1, max_length=100))\n",
    "    return result.text\n",
    "\n",
    "app_hugginface_inputs = gr.inputs.Textbox(lines=3, placeholder=\"Enter a grammatically incorrect sentence here...\")\n",
    "\n",
    "interface2 = gr.Interface(fn=huggingface_corrector, \n",
    "                        inputs=app_hugginface_inputs,\n",
    "                        outputs='text', \n",
    "                        title='Hi there, I\\'m Huggingface')\n",
    "\n",
    "#interface2.launch()"
   ]
  }
 ],
 "metadata": {
  "kernelspec": {
   "display_name": "Python 3.7.11 ('corrector-env')",
   "language": "python",
   "name": "python3"
  },
  "language_info": {
   "codemirror_mode": {
    "name": "ipython",
    "version": 3
   },
   "file_extension": ".py",
   "mimetype": "text/x-python",
   "name": "python",
   "nbconvert_exporter": "python",
   "pygments_lexer": "ipython3",
   "version": "3.7.11"
  },
  "orig_nbformat": 4,
  "vscode": {
   "interpreter": {
    "hash": "9abbb2f9ff9489bff851d7bc026768033112268da968bf2b2901d2bfbdd8a580"
   }
  }
 },
 "nbformat": 4,
 "nbformat_minor": 2
}
