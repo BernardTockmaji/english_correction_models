{
 "cells": [
  {
   "cell_type": "markdown",
   "metadata": {},
   "source": [
    "## Importing Libraries & Datasets"
   ]
  },
  {
   "cell_type": "code",
   "execution_count": 21,
   "metadata": {},
   "outputs": [],
   "source": [
    "\n",
    "#For Implementing Gramformer Solution\n",
    "from gramformer import Gramformer\n",
    "\n",
    "#for implementing Bert Solution\n",
    "from happytransformer import HappyTextToText, TTSettings\n",
    "\n",
    "#For Implementing LanguageTool Solution\n",
    "import language_tool_python\n",
    "\n",
    "#For GingerIt Solution\n",
    "from gingerit.gingerit import GingerIt\n",
    "\n",
    "#For Symspellpy\n",
    "import pkg_resources\n",
    "from symspellpy import SymSpell\n",
    "\n",
    "#For TextBlob\n",
    "from textblob import TextBlob\n",
    "\n",
    "#For Web Application Development\n",
    "import gradio as gr\n",
    "\n",
    "import pandas as pd\n",
    "import sys \n"
   ]
  },
  {
   "cell_type": "code",
   "execution_count": 22,
   "metadata": {},
   "outputs": [],
   "source": [
    "df = pd.read_csv('./grammatical error detection/NLP Assignment/test_data.csv')\n",
    "df.head(20)\n",
    "test_df = df.head(40)\n",
    "pd.set_option('display.max_colwidth', None)"
   ]
  },
  {
   "cell_type": "markdown",
   "metadata": {},
   "source": [
    "## Gramformer Model "
   ]
  },
  {
   "cell_type": "code",
   "execution_count": 23,
   "metadata": {},
   "outputs": [
    {
     "name": "stdout",
     "output_type": "stream",
     "text": [
      "[Gramformer] Grammar error correct/highlight model loaded..\n"
     ]
    }
   ],
   "source": [
    "gf = Gramformer(models=1, use_gpu=False) #1=corrector, 2=detector"
   ]
  },
  {
   "cell_type": "code",
   "execution_count": 24,
   "metadata": {},
   "outputs": [
    {
     "data": {
      "text/plain": [
       "{'hello my dear child.'}"
      ]
     },
     "execution_count": 24,
     "metadata": {},
     "output_type": "execute_result"
    }
   ],
   "source": [
    "gf.correct('hello my dear childs')"
   ]
  },
  {
   "cell_type": "markdown",
   "metadata": {},
   "source": [
    "    Function to build web application using gradio"
   ]
  },
  {
   "cell_type": "code",
   "execution_count": 25,
   "metadata": {},
   "outputs": [],
   "source": [
    "def correct(sentence):\n",
    "    res = gf.correct(sentence) \n",
    "    return res\n",
    "# app_inputs = gr.inputs.Textbox(lines=3, placeholder=\"Enter a grammatically incorrect sentence here...\")\n",
    "\n",
    "# interface = gr.Interface(fn=correct, \n",
    "#                         inputs=app_inputs,\n",
    "#                          outputs='text', \n",
    "#                         title='Hi there, I\\'m Gramformer')\n",
    "\n",
    "#interface.launch()"
   ]
  },
  {
   "cell_type": "markdown",
   "metadata": {},
   "source": [
    "    Gramformer highlighter"
   ]
  },
  {
   "cell_type": "code",
   "execution_count": 26,
   "metadata": {},
   "outputs": [],
   "source": [
    "# gh = Gramformer(models=3, use_gpu=False) #1=corrector, 2=detector"
   ]
  },
  {
   "cell_type": "code",
   "execution_count": 27,
   "metadata": {},
   "outputs": [],
   "source": [
    "# gh.highlight(orig='to tha store',cor='to the store')"
   ]
  },
  {
   "cell_type": "markdown",
   "metadata": {},
   "source": [
    "### Trying Gramformer on Datasets"
   ]
  },
  {
   "cell_type": "code",
   "execution_count": 28,
   "metadata": {},
   "outputs": [],
   "source": [
    "def gramformer_corrector(text):\n",
    "    res = gf.correct(text) \n",
    "    return res"
   ]
  },
  {
   "cell_type": "markdown",
   "metadata": {},
   "source": [
    "    Calling Gramformer model for correction"
   ]
  },
  {
   "cell_type": "code",
   "execution_count": 29,
   "metadata": {},
   "outputs": [],
   "source": [
    "# test_df['corrected_sentence'] = test_df['input'].apply(lambda text: gramformer_corrector(text))\n",
    "# test_df.head(40)"
   ]
  },
  {
   "cell_type": "markdown",
   "metadata": {},
   "source": [
    "## Bert + Huggingface Model "
   ]
  },
  {
   "cell_type": "code",
   "execution_count": 30,
   "metadata": {},
   "outputs": [
    {
     "name": "stdout",
     "output_type": "stream",
     "text": [
      "This sentence has bad grammar.\n"
     ]
    }
   ],
   "source": [
    "happy_tt = HappyTextToText(\"T5\", \"vennify/t5-base-grammar-correction\")\n",
    "args = TTSettings(num_beams=5, min_length=1)\n",
    "result = happy_tt.generate_text(\"grammar: This sentences has has bads grammar.\", args=args)\n",
    "print(result.text)"
   ]
  },
  {
   "cell_type": "code",
   "execution_count": 31,
   "metadata": {},
   "outputs": [],
   "source": [
    "def huggingface_corrector(text):\n",
    "    result = happy_tt.generate_text('grammar: ' + text, args=TTSettings(num_beams=1, min_length=1, max_length=100))\n",
    "    return result.text\n",
    "# app_hugginface_inputs = gr.inputs.Textbox(lines=3, placeholder=\"Enter a grammatically incorrect sentence here...\")\n",
    "\n",
    "# interface2 = gr.Interface(fn=huggingface_corrector, \n",
    "#                         inputs=app_hugginface_inputs,\n",
    "#                         outputs='text', \n",
    "#                         title='Hi there, I\\'m Huggingface')\n",
    "\n",
    "#interface2.launch()"
   ]
  },
  {
   "cell_type": "markdown",
   "metadata": {},
   "source": [
    "### Trying Bert + Hugging Face on Datasets"
   ]
  },
  {
   "cell_type": "code",
   "execution_count": 32,
   "metadata": {},
   "outputs": [],
   "source": [
    "def huggingface_corrector(text):\n",
    "    result = happy_tt.generate_text('grammar: ' + text, args=TTSettings(num_beams=1, min_length=1, max_length=100))\n",
    "    return result.text"
   ]
  },
  {
   "cell_type": "markdown",
   "metadata": {},
   "source": [
    "    Calling Bert model for correction"
   ]
  },
  {
   "cell_type": "code",
   "execution_count": 33,
   "metadata": {},
   "outputs": [],
   "source": [
    "# test_df['corrected_sentence'] = test_df['input'].apply(lambda text: huggingface_corrector(text))\n",
    "# test_df.head(40)"
   ]
  },
  {
   "cell_type": "markdown",
   "metadata": {},
   "source": [
    "## Language Tool Model"
   ]
  },
  {
   "cell_type": "code",
   "execution_count": 34,
   "metadata": {},
   "outputs": [],
   "source": [
    "my_tool = language_tool_python.LanguageTool('en-US')  \n",
    "my_text = \"\"\"LanguageTool provides utility to check grammar and spelling errors. We just have to paste the text here and click the 'Check Text' button. Click the colored phrases for for information on potential errors. or we can use this text too see an some of the issues that LanguageTool can dedect. Whot do someone thinks of grammar checkers? Please not that they are not perfect. Style problems get a blue marker: It is 7 P.M. in the evening. The weather was nice on Monday, 22 November 2021\"\"\"   \n",
    "\n",
    "def english_text_corrector(tool, text):\n",
    "    \n",
    "    matches = tool.check(text)\n",
    "\n",
    "    #empty lists\n",
    "    Mistakes = [] \n",
    "    Corrections = []  \n",
    "    StartPositions = []  \n",
    "    EndPositions = []  \n",
    "\n",
    "    for rules in matches:\n",
    "        if len(rules.replacements) > 0:  \n",
    "            StartPositions.append(rules.offset)  \n",
    "            EndPositions.append(rules.errorLength + rules.offset)  \n",
    "            Mistakes.append(my_text[rules.offset : rules.errorLength + rules.offset])  \n",
    "            Corrections.append(rules.replacements[0]) \n",
    "\n",
    "    print(\"Mistakes made\")\n",
    "    print (Mistakes)\n",
    "    print (\"\\nRecommended Corrections\")\n",
    "    print(Corrections)\n",
    "    print (\"\\nMistake Starting character number\")\n",
    "    print(StartPositions)\n",
    "    print (\"\\nMistake EndPoint character number\")\n",
    "    print(EndPositions)\n",
    "\n",
    "    mistakes_number = len (Mistakes)\n",
    "\n",
    "    print( \"\\nNumber of mistakes made \" + str(mistakes_number))\n",
    "    #return mistakes_number\n",
    "\n",
    "#english_text_corrector(my_tool, my_text)"
   ]
  },
  {
   "cell_type": "markdown",
   "metadata": {},
   "source": [
    "### Language Tool Model on Datasets"
   ]
  },
  {
   "cell_type": "code",
   "execution_count": 35,
   "metadata": {},
   "outputs": [],
   "source": [
    "tool = language_tool_python.LanguageTool('en-US')\n",
    "def language_tool_corrector(text:str):\n",
    "    correction = tool.correct(text)\n",
    "    return correction"
   ]
  },
  {
   "cell_type": "markdown",
   "metadata": {},
   "source": [
    "    Calling language tool model for correction"
   ]
  },
  {
   "cell_type": "code",
   "execution_count": 36,
   "metadata": {},
   "outputs": [],
   "source": [
    "# test_df['corrected_sentence'] = test_df['input'].apply(lambda text: language_tool_corrector(text))\n",
    "# test_df.head(40)"
   ]
  },
  {
   "cell_type": "markdown",
   "metadata": {},
   "source": [
    "## GingerIt Model"
   ]
  },
  {
   "cell_type": "code",
   "execution_count": 37,
   "metadata": {},
   "outputs": [
    {
     "data": {
      "text/plain": [
       "'The smell of flowers brings back memories.'"
      ]
     },
     "execution_count": 37,
     "metadata": {},
     "output_type": "execute_result"
    }
   ],
   "source": [
    "text = 'The smelt of fliwers bring back memories.'\n",
    "\n",
    "parser = GingerIt()\n",
    "parser.parse(text)['result']"
   ]
  },
  {
   "cell_type": "markdown",
   "metadata": {},
   "source": [
    "### Trying GingerIt Model on Datasets"
   ]
  },
  {
   "cell_type": "code",
   "execution_count": 38,
   "metadata": {},
   "outputs": [],
   "source": [
    "def ginger_corrector(text: str):\n",
    "    \n",
    "    parser = GingerIt()\n",
    "    correction = parser.parse(text)['result']\n",
    "    return correction"
   ]
  },
  {
   "cell_type": "markdown",
   "metadata": {},
   "source": [
    "        Calling GingerIt model for correction"
   ]
  },
  {
   "cell_type": "code",
   "execution_count": 39,
   "metadata": {},
   "outputs": [],
   "source": [
    "# test_df['corrected_sentence'] = test_df['input'].apply(lambda text: ginger_corrector(text))\n",
    "# test_df.head(40)"
   ]
  },
  {
   "cell_type": "markdown",
   "metadata": {},
   "source": [
    "## Symspellpy Model"
   ]
  },
  {
   "cell_type": "code",
   "execution_count": 40,
   "metadata": {},
   "outputs": [
    {
     "name": "stdout",
     "output_type": "stream",
     "text": [
      "where is the love he had dated for much of the past who couldn't read in six grade and inspired him, 9, 0\n"
     ]
    }
   ],
   "source": [
    "sym_spell = SymSpell(max_dictionary_edit_distance=2, prefix_length=7)\n",
    "dictionary_path = pkg_resources.resource_filename(\n",
    "    \"symspellpy\", \"frequency_dictionary_en_82_765.txt\"\n",
    ")\n",
    "bigram_path = pkg_resources.resource_filename(\n",
    "    \"symspellpy\", \"frequency_bigramdictionary_en_243_342.txt\"\n",
    ")\n",
    "# term_index is the column of the term and count_index is the\n",
    "# column of the term frequency\n",
    "sym_spell.load_dictionary(dictionary_path, term_index=0, count_index=1)\n",
    "sym_spell.load_bigram_dictionary(bigram_path, term_index=0, count_index=2)\n",
    "input_term = (\n",
    "    \"whereis th elove hehad dated forImuch of thepast who \"\n",
    "    \"couqdn'tread in sixtgrade and ins pired him\"\n",
    ")\n",
    "# max edit distance per lookup (per single word, not per whole input string)\n",
    "suggestions = sym_spell.lookup_compound(input_term, max_edit_distance=2)\n",
    "\n",
    "for suggestion in suggestions:\n",
    "    print(suggestion)"
   ]
  },
  {
   "cell_type": "code",
   "execution_count": 41,
   "metadata": {},
   "outputs": [],
   "source": [
    "def symspelly_corrector(text):\n",
    "    sym_spell = SymSpell(max_dictionary_edit_distance=2, prefix_length=7)\n",
    "    dictionary_path = pkg_resources.resource_filename(\n",
    "        \"symspellpy\", \"frequency_dictionary_en_82_765.txt\"\n",
    "    )\n",
    "    bigram_path = pkg_resources.resource_filename(\n",
    "        \"symspellpy\", \"frequency_bigramdictionary_en_243_342.txt\"\n",
    "    )\n",
    "\n",
    "    sym_spell.load_dictionary(dictionary_path, term_index=0, count_index=1)\n",
    "    sym_spell.load_bigram_dictionary(bigram_path, term_index=0, count_index=2)\n",
    "    suggestions = sym_spell.lookup_compound(text, max_edit_distance=2)\n",
    "\n",
    "    for suggestion in suggestions:\n",
    "        return suggestion"
   ]
  },
  {
   "cell_type": "code",
   "execution_count": 42,
   "metadata": {},
   "outputs": [],
   "source": [
    "# test_df['corrected_sentence'] = test_df['input'].apply(lambda text: symspelly_corrector(text))\n",
    "# test_df.head(40)"
   ]
  },
  {
   "cell_type": "markdown",
   "metadata": {},
   "source": [
    "## Textblob"
   ]
  },
  {
   "cell_type": "code",
   "execution_count": 43,
   "metadata": {},
   "outputs": [],
   "source": [
    "def textblob_corrector(text):\n",
    "    correction = TextBlob(text)\n",
    "    return correction.correct()"
   ]
  },
  {
   "cell_type": "code",
   "execution_count": 44,
   "metadata": {},
   "outputs": [],
   "source": [
    "# test_df['ginger_corrected_sentence'] = test_df['input'].apply(lambda text: textblob_corrector(text))\n",
    "# test_df.head()"
   ]
  },
  {
   "cell_type": "markdown",
   "metadata": {},
   "source": [
    "## Combining GingerIt with Bert"
   ]
  },
  {
   "cell_type": "code",
   "execution_count": 45,
   "metadata": {},
   "outputs": [],
   "source": [
    "# test_df['ginger_corrected_sentence'] = test_df['input'].apply(lambda text: ginger_corrector(text))\n",
    "# test_df['combined_with_bert_corrected_sentence'] = test_df['ginger_corrected_sentence'].apply(lambda text: huggingface_corrector(text))\n",
    "# test_df.head(40)"
   ]
  },
  {
   "cell_type": "markdown",
   "metadata": {},
   "source": [
    "## Combining Gingerit with Gramformer"
   ]
  },
  {
   "cell_type": "code",
   "execution_count": 46,
   "metadata": {},
   "outputs": [],
   "source": [
    "# test_df['ginger_corrected_sentence'] = test_df['input'].apply(lambda text: ginger_corrector(text))\n",
    "# test_df['combined_with_gramformer'] = test_df['ginger_corrected_sentence'].apply(lambda text: gramformer_corrector(text))\n",
    "# test_df.head(40)"
   ]
  },
  {
   "cell_type": "markdown",
   "metadata": {},
   "source": [
    "# Testing"
   ]
  },
  {
   "cell_type": "code",
   "execution_count": 47,
   "metadata": {},
   "outputs": [],
   "source": [
    "grammar_df = pd.read_csv(\"./grammar_error_check.csv\")"
   ]
  },
  {
   "cell_type": "code",
   "execution_count": 48,
   "metadata": {},
   "outputs": [
    {
     "data": {
      "text/html": [
       "<div>\n",
       "<style scoped>\n",
       "    .dataframe tbody tr th:only-of-type {\n",
       "        vertical-align: middle;\n",
       "    }\n",
       "\n",
       "    .dataframe tbody tr th {\n",
       "        vertical-align: top;\n",
       "    }\n",
       "\n",
       "    .dataframe thead th {\n",
       "        text-align: right;\n",
       "    }\n",
       "</style>\n",
       "<table border=\"1\" class=\"dataframe\">\n",
       "  <thead>\n",
       "    <tr style=\"text-align: right;\">\n",
       "      <th></th>\n",
       "      <th>error</th>\n",
       "      <th>real_correct</th>\n",
       "      <th>predicted_correct</th>\n",
       "      <th>Unnamed: 3</th>\n",
       "      <th>diff_r</th>\n",
       "      <th>diff_p</th>\n",
       "    </tr>\n",
       "  </thead>\n",
       "  <tbody>\n",
       "    <tr>\n",
       "      <th>0</th>\n",
       "      <td>D 'Souza is amaced at the recognitaon eancing now has in India -- and the money involked .</td>\n",
       "      <td>D 'Souza is amazed at the recognition dancing now has in India -- and the money involved .</td>\n",
       "      <td>D'Souza is amazed at the recognition, dancing now has in India -- and the money invoked.</td>\n",
       "      <td>NaN</td>\n",
       "      <td>{'recognition', 'amazed', 'involved', 'dancing'}</td>\n",
       "      <td>{'recognition,', 'amazed', 'invoked.', 'dancing', \"D'Souza\"}</td>\n",
       "    </tr>\n",
       "    <tr>\n",
       "      <th>1</th>\n",
       "      <td>Similarly , the United States gav Ge0rgia military aid in 2002 and 2003 to gelp mprove caunterterror capabilities .</td>\n",
       "      <td>Similarly , the United States gave Georgia military aid in 2002 and 2003 to help improve counterterror capabilities .</td>\n",
       "      <td>Similarly, the United States gave Georgia military aid in 2002 and 2003 to help improve its combat capabilities.</td>\n",
       "      <td>NaN</td>\n",
       "      <td>{'help', 'counterterror', 'improve', 'Georgia', 'gave'}</td>\n",
       "      <td>{'help', 'improve', 'combat', 'capabilities.', 'Georgia', 'its', 'Similarly,', 'gave'}</td>\n",
       "    </tr>\n",
       "    <tr>\n",
       "      <th>2</th>\n",
       "      <td>Others fear the neighbourhood 's character will be irseparabey changed because of luxury housing .</td>\n",
       "      <td>Others fear the neighbourhood 's character will be irreparably changed because of luxury housing .</td>\n",
       "      <td>Others fear the neighborhood's character will be irreparabey changed because of luxury housing.</td>\n",
       "      <td>NaN</td>\n",
       "      <td>{'irreparably'}</td>\n",
       "      <td>{\"neighborhood's\", 'irreparabey', 'housing.'}</td>\n",
       "    </tr>\n",
       "    <tr>\n",
       "      <th>3</th>\n",
       "      <td>Goldman reported from New York .</td>\n",
       "      <td>Goldman reported from New York .</td>\n",
       "      <td>Goldman reported from New York.</td>\n",
       "      <td>NaN</td>\n",
       "      <td>set()</td>\n",
       "      <td>{'York.'}</td>\n",
       "    </tr>\n",
       "    <tr>\n",
       "      <th>4</th>\n",
       "      <td>But there 's no oubt that Dudley , im he runs , would bring name familiarity to the rac given that he had two stints playing for the Trail Blazers , from 1993-97 and from 2001-03 .</td>\n",
       "      <td>But there 's no doubt that Dudley , if he runs , would bring name familiarity to the race given that he had two stints playing for the Trail Blazers , from 1993-97 and from 2001-03 .</td>\n",
       "      <td>But there's no doubt that Dudley, I'm he runs, would bring name familiarity to the race given that he had two stints playing for the Trail Blazers, from 1993-97 and from 2001-03.</td>\n",
       "      <td>NaN</td>\n",
       "      <td>{'if', 'doubt', 'race'}</td>\n",
       "      <td>{\"there's\", 'Dudley,', 'runs,', 'doubt', \"I'm\", '2001-03.', 'Blazers,', 'race'}</td>\n",
       "    </tr>\n",
       "  </tbody>\n",
       "</table>\n",
       "</div>"
      ],
      "text/plain": [
       "                                                                                                                                                                                  error  \\\n",
       "0                                                                                            D 'Souza is amaced at the recognitaon eancing now has in India -- and the money involked .   \n",
       "1                                                                   Similarly , the United States gav Ge0rgia military aid in 2002 and 2003 to gelp mprove caunterterror capabilities .   \n",
       "2                                                                                    Others fear the neighbourhood 's character will be irseparabey changed because of luxury housing .   \n",
       "3                                                                                                                                                      Goldman reported from New York .   \n",
       "4  But there 's no oubt that Dudley , im he runs , would bring name familiarity to the rac given that he had two stints playing for the Trail Blazers , from 1993-97 and from 2001-03 .   \n",
       "\n",
       "                                                                                                                                                                             real_correct  \\\n",
       "0                                                                                              D 'Souza is amazed at the recognition dancing now has in India -- and the money involved .   \n",
       "1                                                                   Similarly , the United States gave Georgia military aid in 2002 and 2003 to help improve counterterror capabilities .   \n",
       "2                                                                                      Others fear the neighbourhood 's character will be irreparably changed because of luxury housing .   \n",
       "3                                                                                                                                                        Goldman reported from New York .   \n",
       "4  But there 's no doubt that Dudley , if he runs , would bring name familiarity to the race given that he had two stints playing for the Trail Blazers , from 1993-97 and from 2001-03 .   \n",
       "\n",
       "                                                                                                                                                                    predicted_correct  \\\n",
       "0                                                                                            D'Souza is amazed at the recognition, dancing now has in India -- and the money invoked.   \n",
       "1                                                                    Similarly, the United States gave Georgia military aid in 2002 and 2003 to help improve its combat capabilities.   \n",
       "2                                                                                     Others fear the neighborhood's character will be irreparabey changed because of luxury housing.   \n",
       "3                                                                                                                                                     Goldman reported from New York.   \n",
       "4  But there's no doubt that Dudley, I'm he runs, would bring name familiarity to the race given that he had two stints playing for the Trail Blazers, from 1993-97 and from 2001-03.   \n",
       "\n",
       "  Unnamed: 3                                                   diff_r  \\\n",
       "0        NaN         {'recognition', 'amazed', 'involved', 'dancing'}   \n",
       "1        NaN  {'help', 'counterterror', 'improve', 'Georgia', 'gave'}   \n",
       "2        NaN                                          {'irreparably'}   \n",
       "3        NaN                                                    set()   \n",
       "4        NaN                                  {'if', 'doubt', 'race'}   \n",
       "\n",
       "                                                                                   diff_p  \n",
       "0                            {'recognition,', 'amazed', 'invoked.', 'dancing', \"D'Souza\"}  \n",
       "1  {'help', 'improve', 'combat', 'capabilities.', 'Georgia', 'its', 'Similarly,', 'gave'}  \n",
       "2                                           {\"neighborhood's\", 'irreparabey', 'housing.'}  \n",
       "3                                                                               {'York.'}  \n",
       "4         {\"there's\", 'Dudley,', 'runs,', 'doubt', \"I'm\", '2001-03.', 'Blazers,', 'race'}  "
      ]
     },
     "execution_count": 48,
     "metadata": {},
     "output_type": "execute_result"
    }
   ],
   "source": [
    "grammar_df.head()"
   ]
  },
  {
   "cell_type": "code",
   "execution_count": 49,
   "metadata": {},
   "outputs": [],
   "source": [
    "grammar_df.drop(columns=['Unnamed: 3', 'diff_r', 'diff_p'],inplace=True)"
   ]
  },
  {
   "cell_type": "code",
   "execution_count": 50,
   "metadata": {},
   "outputs": [],
   "source": [
    "grammar_df['corrected_sentence'] = grammar_df['error'].apply(lambda text: huggingface_corrector(text))"
   ]
  },
  {
   "cell_type": "code",
   "execution_count": 51,
   "metadata": {},
   "outputs": [
    {
     "data": {
      "text/html": [
       "<div>\n",
       "<style scoped>\n",
       "    .dataframe tbody tr th:only-of-type {\n",
       "        vertical-align: middle;\n",
       "    }\n",
       "\n",
       "    .dataframe tbody tr th {\n",
       "        vertical-align: top;\n",
       "    }\n",
       "\n",
       "    .dataframe thead th {\n",
       "        text-align: right;\n",
       "    }\n",
       "</style>\n",
       "<table border=\"1\" class=\"dataframe\">\n",
       "  <thead>\n",
       "    <tr style=\"text-align: right;\">\n",
       "      <th></th>\n",
       "      <th>error</th>\n",
       "      <th>real_correct</th>\n",
       "      <th>predicted_correct</th>\n",
       "      <th>corrected_sentence</th>\n",
       "    </tr>\n",
       "  </thead>\n",
       "  <tbody>\n",
       "    <tr>\n",
       "      <th>0</th>\n",
       "      <td>D 'Souza is amaced at the recognitaon eancing now has in India -- and the money involked .</td>\n",
       "      <td>D 'Souza is amazed at the recognition dancing now has in India -- and the money involved .</td>\n",
       "      <td>D'Souza is amazed at the recognition, dancing now has in India -- and the money invoked.</td>\n",
       "      <td>D'Souza is happy at the recognition he now has in India -- and the money involved.</td>\n",
       "    </tr>\n",
       "    <tr>\n",
       "      <th>1</th>\n",
       "      <td>Similarly , the United States gav Ge0rgia military aid in 2002 and 2003 to gelp mprove caunterterror capabilities .</td>\n",
       "      <td>Similarly , the United States gave Georgia military aid in 2002 and 2003 to help improve counterterror capabilities .</td>\n",
       "      <td>Similarly, the United States gave Georgia military aid in 2002 and 2003 to help improve its combat capabilities.</td>\n",
       "      <td>Similarly, the United States gave the United States military aid in 2002 and 2003 to improve its defense capabilities.</td>\n",
       "    </tr>\n",
       "    <tr>\n",
       "      <th>2</th>\n",
       "      <td>Others fear the neighbourhood 's character will be irseparabey changed because of luxury housing .</td>\n",
       "      <td>Others fear the neighbourhood 's character will be irreparably changed because of luxury housing .</td>\n",
       "      <td>Others fear the neighborhood's character will be irreparabey changed because of luxury housing.</td>\n",
       "      <td>Others fear the neighbourhood's character will be irreplaceable because of luxury housing.</td>\n",
       "    </tr>\n",
       "  </tbody>\n",
       "</table>\n",
       "</div>"
      ],
      "text/plain": [
       "                                                                                                                 error  \\\n",
       "0                           D 'Souza is amaced at the recognitaon eancing now has in India -- and the money involked .   \n",
       "1  Similarly , the United States gav Ge0rgia military aid in 2002 and 2003 to gelp mprove caunterterror capabilities .   \n",
       "2                   Others fear the neighbourhood 's character will be irseparabey changed because of luxury housing .   \n",
       "\n",
       "                                                                                                            real_correct  \\\n",
       "0                             D 'Souza is amazed at the recognition dancing now has in India -- and the money involved .   \n",
       "1  Similarly , the United States gave Georgia military aid in 2002 and 2003 to help improve counterterror capabilities .   \n",
       "2                     Others fear the neighbourhood 's character will be irreparably changed because of luxury housing .   \n",
       "\n",
       "                                                                                                  predicted_correct  \\\n",
       "0                          D'Souza is amazed at the recognition, dancing now has in India -- and the money invoked.   \n",
       "1  Similarly, the United States gave Georgia military aid in 2002 and 2003 to help improve its combat capabilities.   \n",
       "2                   Others fear the neighborhood's character will be irreparabey changed because of luxury housing.   \n",
       "\n",
       "                                                                                                       corrected_sentence  \n",
       "0                                      D'Souza is happy at the recognition he now has in India -- and the money involved.  \n",
       "1  Similarly, the United States gave the United States military aid in 2002 and 2003 to improve its defense capabilities.  \n",
       "2                              Others fear the neighbourhood's character will be irreplaceable because of luxury housing.  "
      ]
     },
     "execution_count": 51,
     "metadata": {},
     "output_type": "execute_result"
    }
   ],
   "source": [
    "grammar_df.head(3)"
   ]
  },
  {
   "cell_type": "code",
   "execution_count": 72,
   "metadata": {},
   "outputs": [
    {
     "data": {
      "text/plain": [
       "'error,real_correct,predicted_correct,corrected_sentence\\r\\nD \\'Souza is amaced at the recognitaon eancing now has in India -- and the money involked .,D \\'Souza is amazed at the recognition dancing now has in India -- and the money involved .,\"D\\'Souza is amazed at the recognition, dancing now has in India -- and the money invoked.\",D\\'Souza is happy at the recognition he now has in India -- and the money involved.\\r\\n\"Similarly , the United States gav Ge0rgia military aid in 2002 and 2003 to gelp mprove caunterterror capabilities .\",\"Similarly , the United States gave Georgia military aid in 2002 and 2003 to help improve counterterror capabilities .\",\"Similarly, the United States gave Georgia military aid in 2002 and 2003 to help improve its combat capabilities.\",\"Similarly, the United States gave the United States military aid in 2002 and 2003 to improve its defense capabilities.\"\\r\\nOthers fear the neighbourhood \\'s character will be irseparabey changed because of luxury housing .,Others fear the neighbourhood \\'s character will be irreparably changed because of luxury housing .,Others fear the neighborhood\\'s character will be irreparabey changed because of luxury housing.,Others fear the neighbourhood\\'s character will be irreplaceable because of luxury housing.\\r\\nGoldman reported from New York .,Goldman reported from New York .,Goldman reported from New York.,Goldman reported from New York.\\r\\n\"But there \\'s no oubt that Dudley , im he runs , would bring name familiarity to the rac given that he had two stints playing for the Trail Blazers , from 1993-97 and from 2001-03 .\",\"But there \\'s no doubt that Dudley , if he runs , would bring name familiarity to the race given that he had two stints playing for the Trail Blazers , from 1993-97 and from 2001-03 .\",\"But there\\'s no doubt that Dudley, I\\'m he runs, would bring name familiarity to the race given that he had two stints playing for the Trail Blazers, from 1993-97 and from 2001-03.\",\"But there\\'s no doubt that Dudley, the man he runs, would bring name familiarity to the rac given that he had two stints playing for the Trail Blazers , from 1993-97 and from 2001-03 .\"\\r\\n\"Nohere Boy , which is directed by conceptial artist Sam Tayor-Wod , is based on the book Imagine This : Growing Up With My Brother John Lennon bye his half sister , Julie Baird .\",\"Nowhere Boy , which is directed by conceptual artist Sam Taylor-Wood , is based on the book Imagine This : Growing Up With My Brother John Lennon by his half sister , Julia Baird .\",\"No here Boy, directed by conceptual artist Sam Tayor-Wod, is based on the book Imagine This: Growing Up With My Brother John Lennon by his half sister, Julie Baird.\",\"Nohere Boy , which is directed by conceptual artist Sam Tayor-Wod , is based on the book Imagine This : Growing Up With My Brother John Lennon by his half sister , Julie Baird .\"\\r\\n\"The action-adventure led a crowded field of high-powerd nrwcomers to cell an estinated $ 45.5 million worth of tickers since opening Frisay , gistiibutor Walt Disney Pistures said .\",\"The action-adventure led a crowded field of high-powered newcomers to sell an estimated $ 45.5 million worth of tickets since opening Friday , distributor Walt Disney Pictures said .\",\"The action-adventure led a crowded field of high-powered newcomers to cell an estimated $ 45.5 million worth of tickers since opening Frisay, distributor Walt Disney Pistures said.\",\"The action-adventure led a crowded field of high-powerd nrwcomers to cell an estimated $ 45.5 million worth of tickers since opening Frisay , gistiibutor Walt Disney Pistures said .\"\\r\\n\"He would rathlr quietly prepare foe the next game two shrd his sport coat , roll up his skeves and do his aob as if he was just anothsr orking man .\",\"He would rather quietly prepare for the next game to shed his sport coat , roll up his sleeves and do his job as if he was just another working man .\",\"He would read quietly to prepare for the next game, and then share his sport coat, roll up his scarves and do his sob as if he was just another working man.\",\"He would quietly prepare for the next game two shrd his sport coat , roll up his sleeves and do his aob as if he was just anothsr orking man.\"\\r\\nWhat is worse is that is the making romarks tht if he really wanted to learn he could .,What is worse is that is the making remarks that if he really wanted to learn he could .,What is worse is that is the making of romarks that if he really wanted to learn he could.,What is worse is that the making of romarks tht if he really wanted to learn he could.\\r\\n\"Stephen Roberton , the BRC director general , sais the dramani improvement had to be traatrd with caution .\",\"Stephen Robertson , the BRC director general , said the dramatic improvement had to be treated with caution .\",\"Stephen Roberton, the BRC director general, says the drama Ni improvement had to be treated with caution.\",\"Stephen Roberton , the BRC director general , said the dramani improvement had to be done with caution.\"\\r\\n\"His \"\" intellect \"\" was shanlow , and espoused ideas based on tothinf nore than his dogmatic insistence rhat his privileged view of yhings was thee right view .\",\"His \"\" intellect \"\" was shallow , and espoused ideas based on nothing more than his dogmatic insistence that his privileged view of things was the right view .\",\"His \"\" intellect \"\" was shallow, and espoused ideas based on more than his dogmatic insistence that his privileged view of things was the right view.\",\"His \"\" intellect \"\" was shanlow, and espoused ideas based on tothinf nore than his dogmatic insistence that his privileged view of yhings was the right view.\"\\r\\n\"The declaration is a precaution , say health officials , who call on the public to be call and preparkd .\",\"The declaration is a precaution , say health officials , who call on the public to be calm and prepared .\",\"The declaration is a precaution, say health officials, who call on the public to be called and prepared.\",\"The declaration is a precaution, say health officials, who call on the public to be called and protected.\"\\r\\n\"They visit Juneau , Skageay and Ketchikan , Glacier Bay National Park and Tracy Arm fjord .\",\"They visit Juneau , Skagway and Ketchikan , Glacier Bay National Park and Tracy Arm fjord .\",\"They visit Juneau, Skageay and Ketchikan, Glacier Bay National Park and Tracy Arm fjord.\",\"They visit Juneau , Skageay and Ketchikan , Glacier Bay National Park and Tracy Arm fjord .\"\\r\\n\"WASHINGTON ( AP ) - The nimbar of workets claining job descrinination rased on disability , religion and national origin surged to new highs last year .\",\"WASHINGTON ( AP ) - The number of workers claiming job discrimination based on disability , religion and national origin surged to new highs last year .\",\"The number of workers claiming job discrimination raised for disability, religion and national origin surged to new highs last year.\",\"WASHINGTON ( AP ) - The number of workers claining job descriptions rased on disability , religion and national origin to new highs last year.\"\\r\\n\"Daney Brire and Scott Hartnell scoted in the saxond period for thee Flers , who were uithout the injured forwards Simon Gagn and Scottie Upshael , and degensenan Brayden Coburn .\",\"Danny Brire and Scott Hartnell scored in the second period for the Flyers , who were without the injured forwards Simon Gagn and Scottie Upshall , and defenseman Braydon Coburn .\",\"Daney Brire and Scott Hartnell scored in the second period for thee Flers, who were without injured forwards Simon Gagn and Scottie Upshael, and degensenan Brayden Coburn.\",\"Daney Brire and Scott Hartnell scored in the second period for thee Flers , who were uithout the injured forwards Simon Gagn and Scottie Upshael , and degensenan Brayden Coburn .\"\\r\\n\"They spenr money on builting a vrand , and that \\'s how they became successoul .\",\"They spent money on building a brand , and that \\'s how they became successful .\",\"They spent money on building a new facility, and that\\'s how they became successful.\",\"They spent money on building a new facility, and that\\'s how they became successful.\"\\r\\n\"Colorado relleed from a two-goal deficit wich three scors in the second period , but Snea Weber tied it with 1 : 53 leet in the second and it remained a 3-3 game tgroughout the third .\",\"Colorado rallied from a two-goal deficit with three scores in the second period , but Shea Weber tied it with 1 : 53 left in the second and it remained a 3-3 game throughout the third .\",\"Colorado rallied from a two-goal deficit with three scores in the second period, but Snea Weber tied it with 1 : 53 lead in the second and it remained a 3-3 game throughout the third.\",\"Colorado reclaimed from a two-goal deficit wich three scorers in the second period , but Snea Weber tied it with 1 : 53 leet in the second and it remained a 3-3 game through the third .\"\\r\\n\"Butt since the messive profots turnek into rnormius write downs , their reputauion has fallen even further in the eyes of the general public .\",\"But since the massive profits turned into enormous write downs , their reputation has fallen even further in the eyes of the general public .\",\"Since the massive profits turned into rnormius write downs, their reputation has fallen even further in the eyes of the general public.\",\"Since the messive profots turn into rnormius write downs, their reputation has fallen even further in the eyes of the general public.\"\\r\\nThe panel said Congress shoul draft legislarion to create eithin the Interior Department an indepindent safety agency and a separate evironental onfice to evaluate the risks of oil dtelling too natural resources .,The panel said Congress should draft legislation to create within the Interior Department an independent safety agency and a separate environmental office to evaluate the risks of oil drilling to natural resources .,The panel said Congress should draft legislation to create within the Interior Department an independent safety agency and a separate environmental office to evaluate the risks of oil telling too natural resources.,The panel said Congress should draft legislation to create an independent safety agency and a separate environmental agency to evaluate the risks of oil drilling and natural resources.\\r\\n\"Interestinly , the UK and Denmark had aower survival than cauntrie with simslar TNEH , and Fitland had better survival hhan expected frim its \"\" aoderate \"\" healyh expendieure .\",\"Interestingly , the UK and Denmark had lower survival than countries with similar TNEH , and Finland had better survival than expected from its \"\" moderate \"\" health expenditure .\",\"Interestingly, the UK and Denmark had lower survival than countries with similar TNEH, and Fitland had better survival expected from its \"\" aoderate \"\" health expenditure.\",\"Interestinly, the UK and Denmark had a better survival than countries with similar TNEH , and Finland had a better survival than expected for its \"\" aoderate \"\" healing experience.\"\\r\\nI WANT TO THAK YOU FOR PREPARING SUCH A GOOD PROGRAMME FOR US AND ESPECIALLY FOR TAKING US ON THE RIVER TRIP TO GREENWICH .,I WANT TO THANK YOU FOR PREPARING SUCH A GOOD PROGRAMME FOR US AND ESPECIALLY FOR TAKING US ON THE RIVER TRIP TO GREENWICH .,\"I WANT TO THANK YOU FOR PREPARING SUCH A GOOD PROGRAMME FOR US AND, ESPECIALLY, FOR TAKING US ON THE RIVER TRIP TO Greenwich.\",\"I WANT TO THANK YOU FOR PREPARING SUCH A GOOD PROGRAMME FOR US AND, ESPECIALLY, FOR TAKING US ON THE RIVER TRIP TO Greenwich.\"\\r\\n\"IN MY OPINION FAMOUS PEOPLE ARE BEING OBLIGED TO PAY A PRICE FOR BEING FAMOUS THAT , IN SOME CASS , COSTS MORE THAN THEY DESERVE TO PAY .\",\"IN MY OPINION FAMOUS PEOPLE ARE BEING OBLIGED TO PAY A PRICE FOR BEING FAMOUS THAT , IN SOME CASES , COSTS MORE THAN THEY DESERVE TO PAY .\",\"IN MY OPINION, FAMOUS PEOPLE ARE BEING OBLIGED TO PAY A PRICE FOR BEING FAMOUS THAT, in some cases, costs more than they deserve to pay.\",\"IN MY OPINION, FAMOUS PEOPLE ARE BEING OBLIGED TO PAY A PRICE FOR BEING FAMOUS THAT, in some cases, costs more than they deserve to pay.\"\\r\\n\"Also , I want to say that the plays and films were exellent , but there were n\\'t enough of them for me .\",\"Also , I want to say that the plays and films were excellent , but there were n\\'t enough of them for me .\",\"Also, I want to say that the plays and films were excellent, but there weren\\'t enough of them for me.\",\"Also, I want to say that the plays and films were excellent, but there weren\\'t enough of them for me.\"\\r\\nIn our Acadamy we are not allowed to smoke .,In our Academy we are not allowed to smoke .,\"In our academy, we are not allowed to smoke.\",\"In our academy, we are not allowed to smoke.\"\\r\\nI was trully dissapointed by it .,I was truly disappointed by it .,I was truly disappointed by it.,I was trully dissapointed by it.\\r\\n\"Secondly , I had to wait fourty - five minutes before the show finally began .\",\"Secondly , I had to wait forty - five minutes before the show finally began .\",\"Secondly, I had to wait forty - five minutes before the show finally began.\",\"Secondly, I had to wait fourty - five minutes before the show finally began.\"\\r\\nI \\'d like you to send the money to this adress : ul Taklowa 10,I \\'d like you to send the money to this address : ul Taklowa 10,I\\'d like you to send the money to this address: UL Taklowa 10 .,I\\'d like you to send the money to this address: ul Taklowa 10000.\\r\\nIt is a dream becames true and was really unexpected for me !,It is a dream come true and was really unexpected for me !,It is a dream becomes true and was really unexpected for me!,It is a dream that became true and was really unexpected for me!\\r\\n\"If not , what do you sugest ?\",\"If not , what do you suggest ?\",\"If not, what do you suggest?\",\"If not, what do you suggest?\"\\r\\n\"The festival was excenent in many ways , and in particular it being an international festival was a challenging , but brilliant idea .\",\"The festival was excellent in many ways , and in particular it being an international festival was a challenging , but brilliant idea .\",\"The festival was excellent in many ways, and in particular it being an international festival was a challenging, but brilliant idea.\",\"The festival was enjoyable in many ways, and in particular it being an international festival was a challenging, but brilliant idea.\"\\r\\nMY NAME is JAMES CAMIREZ AND I AM WRITING THIS LETTER TO YOU BECAUSE I HAVE SOME COMPLEINTS REGARDING THE DISAPPOINTING EVENING I HAD LAST NIGHT .,MY NAME is JAMES CAMIREZ AND I AM WRITING THIS LETTER TO YOU BECAUSE I HAVE SOME COMPLAINTS REGARDING THE DISAPPOINTING EVENING I HAD LAST NIGHT .,My name is James Cameron and I am writing this letter to you because I have some problems regarding the DISAPPOINTING EVENING I had last night.,MY NAME is James Cameron and I am writing this letter to you because I have some complaints about the DISAPPOINTING EVENING I had last night.\\r\\n\"SECOND I GOT TO THE THEATRE AT 19.20 BECAUSE IN THE ADVERTISEMENT IT CLEARLY STATES THAT THE SHOW STARTS AT 19.30 , AND I GOT REALLY MAD WHEN I LOOKED AT MY WATCH AND NOTICED THAT I HAD BEEN WAITING FOR 40 ( FORTY ) MINUTES AND THE SHOW HADN\\'T STARTED YET ... I MEAN IT WAS AMAIZING !\",\"SECOND I GOT TO THE THEATRE AT 19.20 BECAUSE IN THE ADVERTISEMENT IT CLEARLY STATES THAT THE SHOW STARTS AT 19.30 , AND I GOT REALLY MAD WHEN I LOOKED AT MY WATCH AND NOTICED THAT I HAD BEEN WAITING FOR 40 ( FORTY ) MINUTES AND THE SHOW HADN\\'T STARTED YET ... I MEAN IT WAS AMAZING !\",\"SECOND I GOT TO THE THEATRE AT 19.20 BECAUSE IN THE advertisement it clearly states that the show starts at 19.30, and I got really mad when I LOOKED at my watch and noticed that I had been waiting for 40 (FORTY) minutes and the show hadn\\'t started yet... I mean it was AMAIZING!\",\"SECOND I GOT TO THE THEATRE AT 19.20 BECAUSE IN THE ADVERTISEMENT IT CLEARLY STATES THAT THE SHOW STARTS AT 19.30 , AND I GOT REALLY mad when I LOOKED AT MY WATCH AND NOTICED THAT I HAD BEEN WAITING FOR 40 ( forty ) MINUTES AND THE SHOW HADN\\'T STARTED YET\"\\r\\nI COULDN\\'T BELIVE IT . HOW CAN THIS CLASS OF THEATRE BE SO ..,I COULDN\\'T BELIEVE IT . HOW CAN THIS CLASS OF THEATRE BE SO ..,I couldn\\'t understand it. HOW CAN THIS CLASS OF THEATRE BE SO..,I couldn\\'t live it. HOW CAN THIS CLASS OF THEATRE BE SO ..\\r\\n\"OH I\\'M GETING MAD AGAIN SO I AM GOING TO TELL YOU ONE LAST THING , IT WAS THE MOST HORRIBLE NIGHT I HAD EVER HAD SO I DEMEND MY MONEY BACK !\",\"OH I\\'M GETING MAD AGAIN SO I AM GOING TO TELL YOU ONE LAST THING , IT WAS THE MOST HORRIBLE NIGHT I HAD EVER HAD SO I DEMAND MY MONEY BACK !\",\"OH I\\'M GETTING MAD AGAIN, so I am going to tell you one last thing, it was the most horrible night I have ever had so I will definitely give my money back!\",\"OH I\\'M GETTING MAD AGAIN, so I am going to tell you one last thing , it was the most horrible night I\\'ve ever had so I would recommend my money back!\"\\r\\nMODERN TECHNOLOGY HAS AFFECTED ME IN SEVERAL WAYS . I MEAN THE MORE THE TECHNOLOGY ADVANCES ; THE MORE CONFORTNESSCOMFORTABLE WE GET .,MODERN TECHNOLOGY HAS AFFECTED ME IN SEVERAL WAYS . I MEAN THE MORE THE TECHNOLOGY ADVANCES ; THE MORE COMFORTCOMFORTABLE WE GET .,\"Modern technology has affected me in several ways. I mean the more technology advances, the more comfortably we get.\",\"MODERN TECHNOLOGY HAS AFFECTED ME IN SEVERAL ways. I mean the more technological advances, the more comfortable we get.\"\\r\\nBUT I THINK ALSO THAT WITH MODERN TECHNOLOGY WE GET MORE COMFORTABLE SO THAT MAKES ME A PACIVE PERSON AND NOT SO ACTIVE .,BUT I THINK ALSO THAT WITH MODERN TECHNOLOGY WE GET MORE COMFORTABLE SO THAT MAKES ME A PASSIVE PERSON AND NOT SO ACTIVE .,BUT I think that with modern technology we GET more comfortable so that makes me a pacifist person and not so active.,BUT I think that with modern technology we get more comfortable so that makes me a pacifist person and not so active.\\r\\n\"THIS CAN BE BAD TOO BECAUSE IF I GET USED TO BEING CONFORTABLE , WHEN I NEED TO DO HARD WORK I WON\\'T BE ABLE TO .\",\"THIS CAN BE BAD TOO BECAUSE IF I GET USED TO BEING COMFORTABLE , WHEN I NEED TO DO HARD WORK I WON\\'T BE ABLE TO .\",\"This can be bad too because if I get used to being comfortable, when I need to do hard work, I won\\'t be able to.\",\"THIS CAN BE BAD TOO, because if I get used to being comfortable, when I need to do hard work, I won\\'t be able to do it.\"\\r\\n\"Everybody attented go to the show , funny , and happ in the end , and what have we go then ?\",\"Everybody attented go to the show , funny , and happy in the end , and what have we go then ?\",\"Everybody hoped to go to the show, funny, and happy in the end, and what have we gone then?\",\"Everybody hoped to go to the show , funny , and happen in the end , and what have we gone then ?\"\\r\\nDisapponted !,Disappointed !,Disappointed!,Disapponted!\\r\\n\"If you could not manage the programe , why did n\\'t you informe people before the programe started ?\",\"If you could not manage the programme , why did n\\'t you inform people before the programme started ?\",\"If you could not manage the program, why didn\\'t you inform people before the program started?\",\"If you could not manage the program, why didn\\'t you inform people before the program started?\"\\r\\n\"i tought you understood \\' ; please send money back to me , you know why , do n\\'t answer me ?\",\"i thought you understood \\' ; please send money back to me , you know why , do n\\'t answer me ?\",\"I thought you understood\\'; please send money back to me, you know why, don\\'t answer me?\",\"I tought you understood\\' ; please send money back to me , you know why , don\\'t answer me ?\"\\r\\n\"not only was i a member of the swimming team in our school , but also i had been tought by my father since i was five years old .\",\"not only was i a member of the swimming team in our school , but also i had been taught by my father since i was five years old .\",\"Not only was I a member of the swimming team in our school, but also I had been taught by my father since I was five years old.\",\"Not only was I a member of the swimming team in our school, but also I had been taught by my father since I was five years old.\"\\r\\ni would definitely choose basketball and swimming wich are my dream sports .,i would definitely choose basketball and swimming which are my dream sports .,\"I would definitely choose basketball and swimming, which are my dream sports.\",\"I would definitely choose basketball and swimming, which are my dream sports.\"\\r\\ni wich that my accommodation at camp california it must be in a tent .,i wish that my accommodation at camp california it must be in a tent .,I wish that my accommodation in camp California must be in a tent.,I know that my accommodation at camp california must be in a tent.\\r\\n\"i would like to ask a few things , especially about the wheather : what is the weather like in july in the u.s.a ? what kind of clothes will i need and how much money should i take with me ? because i have never been to the u.s.a. before i do n\\'t know anything about it .\",\"i would like to ask a few things , especially about the weather : what is the weather like in july in the u.s.a ? what kind of clothes will i need and how much money should i take with me ? because i have never been to the u.s.a. before i do n\\'t know anything about it .\",\"I would like to ask a few things, especially about the weather: what is the weather like in July in the United States? What kind of clothes will I need and how much money should I take with me? Because I have never been to the United States before, I don\\'t know anything about it.\",\"i would like to ask a few things, especially about the weather : what is the weather like in July in the u.s.a. ? what kind of clothes will I need and how much money should I take with me ? because I have never been to the u.s.a. before and I don\\'t know anything about it.\"\\r\\n\"finally , i would like to ask you wheather there is anything i should bring on this trip such as specific clothes , extra money etc .\",\"finally , i would like to ask you whether there is anything i should bring on this trip such as specific clothes , extra money etc .\",\"Finally, I would like to ask you whether there is anything I should bring on this trip such as specific clothes, extra money, etc.\",\"Finally, I would like to ask you whether there is anything I should bring on this trip such as specific clothes , extra money etc.\"\\r\\nat first i could n\\'t believe that i was a winer,at first i could n\\'t believe that i was a winner,At first I couldn\\'t believe that I was a winner.,At first I couldn\\'t believe that I was a winner.\\r\\ni always get up late in the winer,i always get up late in the winter,I always get up late in the night.,I always get up late in the night.\\r\\nthere will be clothes for everyone \\'s tast .,there will be clothes for everyone \\'s taste .,There will be clothes for everyone\\'s taste.,There will be clothes for everyone\\'s taste.\\r\\npeople who can not pass the tast will have difficulties in the next semester .,people who can not pass the test will have difficulties in the next semester .,People who cannot pass the test will have difficulties in the next semester.,People who can not pass the test will have difficulties in the next semester.\\r\\n\"furthermore , you asked me to choise two activities i would like to do .\",\"furthermore , you asked me to choose two activities i would like to do .\",\"Furthermore, you asked me to choose two activities I would like to do.\",\"Further, you asked me to choose two activities I would like to do.\"\\r\\n\"secondly , my choise is the accommodation in tents . i think it could be more interesting . i could enjoy my time with other people playing , eating and talking outside . in my opinion if i choose the log cabin it will be like being at home .\",\"secondly , my choice is the accommodation in tents . i think it could be more interesting . i could enjoy my time with other people playing , eating and talking outside . in my opinion if i choose the log cabin it will be like being at home .\",\"Secondly, my choice is the accommodation in tents. I think it could be more interesting. I could enjoy my time with other people playing, eating and talking outside. In my opinion, if I choose the log cabin it will be like being at home.\",\"Second, my choice is the accommodation in tents . I think it could be more interesting . I could enjoy my time with other people playing, eating and talking outside . in my opinion if I choose the log cabin it will be like being at home.\"\\r\\nfinaly the show started and to my surprise my favourite actor danny brooke had been replaced by another actor .,finally the show started and to my surprise my favourite actor danny brooke had been replaced by another actor .,Finally the show started and to my surprise my favorite actor Danny Brooke had been replaced by another actor.,\"Finaly the show started and to my surprise my favourite actor, danny brooke, had been replaced by another actor.\"\\r\\n\"prepare finaly chopped green onion , and grated ginger .\",\"prepare finely chopped green onion , and grated ginger .\",\"Prepare finely chopped green onion, and grated ginger.\",Prepare finaly chopped green onion and grated ginger.\\r\\n\"he needs to rest , but he does n\\'t geve up .\",\"he needs to rest , but he does n\\'t give up .\",\"He needs to rest, but he doesn\\'t give up.\",\"He needs to rest, but he doesn\\'t get up.\"\\r\\nmy friend geve me a goya plant yesterday .,my friend gave me a goya plant yesterday .,My friend gave me a Goya plant yesterday.,My friend gave me a goya plant yesterday.\\r\\n\"in thise book hemingway is trying to tell us , that if we want something , we can get it , it might be difficult and take a long time but we can do it .\",\"in this book hemingway is trying to tell us , that if we want something , we can get it , it might be difficult and take a long time but we can do it .\",\"In this ebook, Hemingway is trying to tell us that if we want something, we can get it, it might be difficult and take a long time, but we can do it.\",\"In this book, he is trying to tell us that if we want something, we can get it , it might be difficult and take a long time, but we can do it.\"\\r\\nso i feel scared when i think about the consequences if some of the viruses or mad people misuse as happens thise days with sex or other .,so i feel scared when i think about the consequences if some of the viruses or mad people misuse as happens these days with sex or other .,So I feel scared when I think about the consequences if some of the viruses or mad people misuse as happens these days with sex or another.,So I feel scared when I think about the consequences if some of the viruses or mad people misuse as happens these days with sex or other.\\r\\n\"of couse , the shopkeepers are human beings as well .\",\"of course , the shopkeepers are human beings as well .\",\"Of course, the shopkeepers are human beings as well.\",\"Of course, the shopkeepers are human beings as well.\"\\r\\n\"perhaps couse m . j . , so l listened the beatles .\",\"perhaps cause m . j . , so l listened the beatles .\",\"Perhaps case m. J., so l listened to the beatles.\",\"Perhaps because of m . j . , so l listened to the beatles.\"\\r\\n\"after a few seconds of tought i went straight to pat . \"\" why , why did you do that ? \"\"\",\"after a few seconds of thought i went straight to pat . \"\" why , why did you do that ? \"\"\",\"After a few seconds of thought I went straight to the point. \"\" Why did you do that? \"\"\",\"After a few seconds of tought, I went straight to pat . \"\" Why did you do that? \"\"\"\\r\\n\"i tought that dany brook , who is my favourite actor , would perform in that show .\",\"i thought that dany brook , who is my favourite actor , would perform in that show .\",\"I thought that Dany brook, who is my favorite actor, would perform in that show.\",\"I tought that dany brook, who is my favourite actor, would perform in that show.\"\\r\\n\"and when we understood the internet , we tought that meeting people from other countries and being able \"\" to chat \"\" with them was the height of technology .\",\"and when we understood the internet , we thought that meeting people from other countries and being able \"\" to chat \"\" with them was the height of technology .\",\"And when we understood the internet, we thought that meeting people from other countries and being able \"\" to chat \"\" with them was the height of technology.\",\"And when we understood the internet, we learned that meeting people from other countries and being able to \"\" chat \"\" with them was the height of technology.\"\\r\\n\"as you know , we are in england to learn your language and also to learn about your lifestyle , and we tought this show would be a good opportunity for us to discover this aspect of your country !\",\"as you know , we are in england to learn your language and also to learn about your lifestyle , and we thought this show would be a good opportunity for us to discover this aspect of your country !\",\"As you know, we are in England to learn your language and also to learn about your lifestyle, and we thought this show would be a good opportunity for us to discover this aspect of your country!\",\"As you know, we are in England to learn your language and also to learn about your lifestyle, and we think this show would be a good opportunity for us to discover this aspect of your country!\"\\r\\n\"i tought i would never need a mobile phone , but my mum and dad gave me one for christmas last year and now i ca n\\'t live without it !\",\"i thought i would never need a mobile phone , but my mum and dad gave me one for christmas last year and now i ca n\\'t live without it !\",\"I thought I would never need a mobile phone, but my mum and dad gave me one for Christmas last year and now I can\\'t live without it!\",\"I thought I would never need a mobile phone, but my mum and dad gave me one for christmas last year and now I can\\'t live without it!\"\\r\\n\"i also like surfing . i think it is a dangerous sport , but i know how to do it , because of the fact that last year a professional surfer tought me .\",\"i also like surfing . i think it is a dangerous sport , but i know how to do it , because of the fact that last year a professional surfer taught me .\",\"I also like surfing. I think it is a dangerous sport, but I know how to do it, because of the fact that last year a professional surfer taught me.\",\"I also like surfing . I think it is a dangerous sport, but I know how to do it because of the fact that last year a professional surfer tought me.\"\\r\\n\"not only was i a member of the swimming team in our school , but also i had been tought by my father since i was five years old .\",\"not only was i a member of the swimming team in our school , but also i had been taught by my father since i was five years old .\",\"Not only was I a member of the swimming team in our school, but also I had been taught by my father since I was five years old.\",\"Not only was I a member of the swimming team in our school, but also I had been taught by my father since I was five years old.\"\\r\\n\"as regards painting , i know a lot about it since my grandmother tought me when i was five years old .\",\"as regards painting , i know a lot about it since my grandmother taught me when i was five years old .\",\"As regards painting, I know a lot about it since my grandmother taught me when I was five years old.\",\"As regards painting, I know a lot about it since my grandmother taught me when I was five years old.\"\\r\\ni met a lot of different people and they all tought me something new about behaviour or compassion .,i met a lot of different people and they all taught me something new about behaviour or compassion .,I met a lot of different people and they all taught me something new about behavior or compassion.,I met a lot of different people and they all taught me something new about behaviour or compassion.\\r\\nthey tought me specially .,they taught me specially .,They taught me specially.,They tought me specially.\\r\\n\"lastly , there is a recycling problem , wich many people do not care about .\",\"lastly , there is a recycling problem , which many people do not care about .\",\"Lastly, there is a recycling problem, which many people do not care about.\",\"Last, there is a recycling problem, which many people do not care about.\"\\r\\n\"firstly , the great boom in mass communication wich happened at the beginning of our decade , with the development of telephones , radio stations , television and even satellites , and of course , the internet , gave ordinary people the chance to take off on a trip all over the world , and this allowed health and education research to increase as well .\",\"firstly , the great boom in mass communication which happened at the beginning of our decade , with the development of telephones , radio stations , television and even satellites , and of course , the internet , gave ordinary people the chance to take off on a trip all over the world , and this allowed health and education research to increase as well .\",\"Firstly, the great boom in mass communication which happened at the beginning of our decade, with the development of telephones, radio stations, television and even satellites, and of course, the internet, gave ordinary people the chance to take off on a trip all over the world, and this allowed health and education research to increase as well.\",\"First, the great boom in mass communication, which happened at the beginning of our decade, with the development of telephones , radio stations , television and even satellites , and of course , the internet, gave ordinary people the chance to take off on a trip all over the world, and this allowed health and education research to increase as well.\"\\r\\ni \\'d seen your advertisement wich recommended the play \\' over the rainbow \\' and i liked it very much .,i \\'d seen your advertisement which recommended the play \\' over the rainbow \\' and i liked it very much .,I\\'d seen your advertisement which recommended the play \\' over the rainbow \\' and I liked it very much.,\"I\\'d seen your advertisement, which recommended the play \\' over the rainbow \\' and I liked it very much.\"\\r\\n\"there are the natural materials on one side whereas on the other side the fashion industry produces more and more synthetic materials , wich relay on the production cost .\",\"there are the natural materials on one side whereas on the other side the fashion industry produces more and more synthetic materials , which relay on the production cost .\",\"There are natural materials on one side, whereas on the other side the fashion industry produces more and more synthetic materials, which relay on the production cost.\",\"There are natural materials on one side, whereas on the other side the fashion industry produces more and more synthetic materials, which relay on the production cost.\"\\r\\n\"my main work was to take people to their seats because of a concert hall , wich was the millennium dome .\",\"my main work was to take people to their seats because of a concert hall , which was the millennium dome .\",\"My main work was to take people to their seats because of a concert hall, which was the millennium dome.\",\"My main work was to take people to their seats because of a concert hall, which was the millennium dome .\"\\r\\n\"therefore i am thinking of selling my car , wich has changed my life over the last 10 years , wich has given me a kind of freedom , wich has gone with me to all sorts of fantastic places , and changed my life for a new life : without a car .\",\"therefore i am thinking of selling my car , which has changed my life over the last 10 years , which has given me a kind of freedom , which has gone with me to all sorts of fantastic places , and changed my life for a new life : without a car .\",\"Therefore, I am thinking of selling my car, which has changed my life over the last 10 years, which has given me a kind of freedom, which has gone with me to all sorts of fantastic places, and changed my life for a new life: without a car.\",\"Therefore, I am thinking of selling my car, which has changed my life over the last 10 years, which has given me a kind of freedom , which has gone with me to all sorts of fantastic places , and changed my life for a new life : without a car.\"\\r\\n\"for example , recently i was shopping at the market , wich is located in the centre of our town .\",\"for example , recently i was shopping at the market , which is located in the centre of our town .\",\"For example, recently I was shopping at the market, which is located in the center of our town.\",\"For example, recently I was shopping at the market, which is located in the centre of our town.\"\\r\\nfrom the list of activities in wich i will have a chance to compete i have chosen basketball and swimming .,from the list of activities in which i will have a chance to compete i have chosen basketball and swimming .,From the list of activities in which I will have a chance to compete I have chosen basketball and swimming.,\"From the list of activities in which I will have a chance to compete, I have chosen basketball and swimming.\"\\r\\nwe live surrounded by inventions wich help as through the day .,we live surrounded by inventions which help as through the day .,We live surrounded by inventions which help us through the day.,We live surrounded by inventions which help us through the day.\\r\\n\"to summarize , the modern technologies give you and allow you to do many things wich would be impossible in the past but also creates many problems .\",\"to summarize , the modern technologies give you and allow you to do many things which would be impossible in the past but also creates many problems .\",\"To summarize, modern technologies give you and allow you to do many things which would be impossible in the past but also create many problems.\",\"To summarize, modern technologies give you and allow you to do many things which would be impossible in the past but also create many problems.\"\\r\\n\"I have just recieved the letter , which lets me know that I have won the first prize .\",\"I have just received the letter , which lets me know that I have won the first prize .\",\"I have just received the letter, which lets me know that I have won the first prize.\",\"I have just received the letter, which lets me know that I have won the first prize.\"\\r\\nThis is because I intend to take an examination in Septenber .,This is because I intend to take an examination in September .,This is because I intend to take an examination in September.,This is because I intend to take an examination in September.\\r\\n\"And recently , I have been practicing tennis as a school activity .\",\"And recently , I have been practising tennis as a school activity .\",\"And recently, I have been practicing tennis as a school activity.\",And recently I have been practicing tennis as a school activity.\\r\\nThe reason I enjoyed it very much is that I could meet the vocalist during setting chairs just before they started practicing .,The reason I enjoyed it very much is that I could meet the vocalist during setting chairs just before they started practising .,The reason I enjoyed it very much is that I could meet the vocalist during setting chairs just before they started practicing.,The reason I enjoyed it very much is that I could meet the vocalist during setting chairs just before they started practicing.\\r\\nCan you send me a letter back writing what happend to you recently ?,Can you send me a letter back writing what happened to you recently ?,Can you send me a letter back writing what happened to you recently?,Can you send me a letter back writing what happened to you recently ?\\r\\n\"Finally , what kind of wheather is waiting for us ?\",\"Finally , what kind of weather is waiting for us ?\",\"Finally, what kind of weather is waiting for us?\",\"Finally, what kind of wheat is waiting for us?\"\\r\\n\"Surprisily , there were no discounds .\",\"Surprisingly , there were no discounts .\",\"Surprisingly, there were no discounts.\",\"Surprisingly, there were no discounds.\"\\r\\n\"She just remembered it ought to be a secret , and she became really embarassed .\",\"She just remembered it ought to be a secret , and she became really embarrassed .\",\"She just remembered it ought to be a secret, and she became really impressed.\",\"She just remembered it ought to be a secret, and she became really embarassed.\"\\r\\nI swim really well and I am a proffesional basketball player .,I swim really well and I am a professional basketball player .,I swim really well and I am a professional basketball player.,I swim really well and I am a professional basketball player.\\r\\nIt all started when one of the organizers asked me to help him at a concert of my favorite band .,It all started when one of the organizers asked me to help him at a concert of my favourite band .,It all started when one of the organizers asked me to help him at a concert of my favorite band.,It all started when one of the organizers asked me to help him at a concert of my favorite band.\\r\\nI am writting to you about the show .,I am writing to you about the show .,I am writing to you about the show.,I am writing to you about the show.\\r\\n\"The woman who sold me a ticket was very roud to me , actually she started swearing at me .\",\"The woman who sold me a ticket was very rude to me , actually she started swearing at me .\",\"The woman who sold me a ticket was very rude to me, actually she started swearing at me.\",\"The woman who sold me a ticket was very rude to me, actually she started swearing at me.\"\\r\\n\"They were just playing and , by acsident , Peter shot him .\",\"They were just playing and , by accident , Peter shot him .\",\"They were just playing and, by accident, Peter shot him.\",\"They were just playing and , by acsident , Peter shot him.\"\\r\\n\"He promised to keep it secret . The next morning we had an arguiment with Pat . The 3 of us were shouting at each other . In short , Pat left us .\",\"He promised to keep it secret . The next morning we had an argument with Pat . The 3 of us were shouting at each other . In short , Pat left us .\",\"He promised to keep it secret. The next morning we had an argument with Pat. The 3 of us were shouting at each other. In short, Pat left us.\",\"He promised to keep it secret. The next morning we had an argument with Pat . The 3 of us were shouting at each other . In short , Pat left us.\"\\r\\n\"Secondely , I am interested in trying something that I have never done , so I would like to do sailing .\",\"Secondly , I am interested in trying something that I have never done , so I would like to do sailing .\",\"Secondly, I am interested in trying something that I have never done, so I would like to do the sailing.\",\"Second, I am interested in trying something that I have never done, so I would like to do sailing.\"\\r\\nFirst of all I have to say that the whole festival was a greatful success and I also think you chose an appropriate title for the leaflet .,First of all I have to say that the whole festival was a great success and I also think you chose an appropriate title for the leaflet .,\"First of all, I have to say that the whole festival was a grateful success and I also think you chose an appropriate title for the leaflet.\",\"First of all, I have to say that the whole festival was a great success and I also think you chose an appropriate title for the leaflet.\"\\r\\nNearly at the end of this letter I have to say that the idea of the weekend ticket was really good because it gave the people the opportunity to attemp for a whole weekend for a cheap price .,Nearly at the end of this letter I have to say that the idea of the weekend ticket was really good because it gave the people the opportunity to attend for a whole weekend for a cheap price .,\"Nearly at the end of this letter, I have to say that the idea of the weekend ticket was really good because it gave people the opportunity to attempt for a whole weekend for a cheap price.\",Nearly at the end of this letter I have to say that the idea of the weekend ticket was really good because it gave people the opportunity to try for a whole weekend for a cheap price.\\r\\nI am writing with regard to your advertisment .,I am writing with regard to your advertisement .,I am writing with regard to your advertisement.,I am writing with regard to your advertisement.\\r\\nIt was my favorite musical .,It was my favourite musical .,It was my favorite musical.,It was my favorite musical.\\r\\nI was very hopefull that I was going to have a good time .,I was very hopeful that I was going to have a good time .,I was very hopeful that I was going to have a good time.,I was very hopeful that I was going to have a good time.\\r\\nI WANT TO THAK YOU FOR PREPARING SUCH A GOOD PROGRAMME FOR US AND ESPECIALLY FOR TAKING US ON THE RIVER TRIP TO GREENWICH .,I WANT TO THANK YOU FOR PREPARING SUCH A GOOD PROGRAMME FOR US AND ESPECIALLY FOR TAKING US ON THE RIVER TRIP TO GREENWICH .,\"I WANT TO THANK YOU FOR PREPARING SUCH A GOOD PROGRAMME FOR US AND, ESPECIALLY, FOR TAKING US ON THE RIVER TRIP TO Greenwich.\",\"I WANT TO THANK YOU FOR PREPARING SUCH A GOOD PROGRAMME FOR US AND, ESPECIALLY, FOR TAKING US ON THE RIVER TRIP TO Greenwich.\"\\r\\n\"IN MY OPINION FAMOUS PEOPLE ARE BEING OBLIGED TO PAY A PRICE FOR BEING FAMOUS THAT , IN SOME CASS , COSTS MORE THAN THEY DESERVE TO PAY .\",\"IN MY OPINION FAMOUS PEOPLE ARE BEING OBLIGED TO PAY A PRICE FOR BEING FAMOUS THAT , IN SOME CASES , COSTS MORE THAN THEY DESERVE TO PAY .\",\"IN MY OPINION, FAMOUS PEOPLE ARE BEING OBLIGED TO PAY A PRICE FOR BEING FAMOUS THAT, in some cases, costs more than they deserve to pay.\",\"IN MY OPINION, FAMOUS PEOPLE ARE BEING OBLIGED TO PAY A PRICE FOR BEING FAMOUS THAT, in some cases, costs more than they deserve to pay.\"\\r\\n\"Also , I want to say that the plays and films were exellent , but there were n\\'t enough of them for me .\",\"Also , I want to say that the plays and films were excellent , but there were n\\'t enough of them for me .\",\"Also, I want to say that the plays and films were excellent, but there weren\\'t enough of them for me.\",\"Also, I want to say that the plays and films were excellent, but there weren\\'t enough of them for me.\"\\r\\nIn our Acadamy we are not allowed to smoke .,In our Academy we are not allowed to smoke .,\"In our academy, we are not allowed to smoke.\",\"In our academy, we are not allowed to smoke.\"\\r\\nI was trully dissapointed by it .,I was truly disappointed by it .,I was truly disappointed by it.,I was trully dissapointed by it.\\r\\n\"Secondly , I had to wait fourty - five minutes before the show finally began .\",\"Secondly , I had to wait forty - five minutes before the show finally began .\",\"Secondly, I had to wait forty - five minutes before the show finally began.\",\"Secondly, I had to wait fourty - five minutes before the show finally began.\"\\r\\nI \\'d like you to send the money to this adress : ul Taklowa 10,I \\'d like you to send the money to this address : ul Taklowa 10,I\\'d like you to send the money to this address: UL Taklowa 10 .,I\\'d like you to send the money to this address: ul Taklowa 10000.\\r\\nIt is a dream becames true and was really unexpected for me !,It is a dream come true and was really unexpected for me !,It is a dream becomes true and was really unexpected for me!,It is a dream that became true and was really unexpected for me!\\r\\n\"If not , what do you sugest ?\",\"If not , what do you suggest ?\",\"If not, what do you suggest?\",\"If not, what do you suggest?\"\\r\\n\"The festival was excenent in many ways , and in particular it being an international festival was a challenging , but brilliant idea .\",\"The festival was excellent in many ways , and in particular it being an international festival was a challenging , but brilliant idea .\",\"The festival was excellent in many ways, and in particular it being an international festival was a challenging, but brilliant idea.\",\"The festival was enjoyable in many ways, and in particular it being an international festival was a challenging, but brilliant idea.\"\\r\\nMY NAME is JAMES CAMIREZ AND I AM WRITING THIS LETTER TO YOU BECAUSE I HAVE SOME COMPLEINTS REGARDING THE DISAPPOINTING EVENING I HAD LAST NIGHT .,MY NAME is JAMES CAMIREZ AND I AM WRITING THIS LETTER TO YOU BECAUSE I HAVE SOME COMPLAINTS REGARDING THE DISAPPOINTING EVENING I HAD LAST NIGHT .,My name is James Cameron and I am writing this letter to you because I have some problems regarding the DISAPPOINTING EVENING I had last night.,MY NAME is James Cameron and I am writing this letter to you because I have some complaints about the DISAPPOINTING EVENING I had last night.\\r\\n\"SECOND I GOT TO THE THEATRE AT 19.20 BECAUSE IN THE ADVERTISEMENT IT CLEARLY STATES THAT THE SHOW STARTS AT 19.30 , AND I GOT REALLY MAD WHEN I LOOKED AT MY WATCH AND NOTICED THAT I HAD BEEN WAITING FOR 40 ( FORTY ) MINUTES AND THE SHOW HADN\\'T STARTED YET ... I MEAN IT WAS AMAIZING !\",\"SECOND I GOT TO THE THEATRE AT 19.20 BECAUSE IN THE ADVERTISEMENT IT CLEARLY STATES THAT THE SHOW STARTS AT 19.30 , AND I GOT REALLY MAD WHEN I LOOKED AT MY WATCH AND NOTICED THAT I HAD BEEN WAITING FOR 40 ( FORTY ) MINUTES AND THE SHOW HADN\\'T STARTED YET ... I MEAN IT WAS AMAZING !\",\"SECOND I GOT TO THE THEATRE AT 19.20 BECAUSE IN THE advertisement it clearly states that the show starts at 19.30, and I got really mad when I LOOKED at my watch and noticed that I had been waiting for 40 (FORTY) minutes and the show hadn\\'t started yet... I mean it was AMAIZING!\",\"SECOND I GOT TO THE THEATRE AT 19.20 BECAUSE IN THE ADVERTISEMENT IT CLEARLY STATES THAT THE SHOW STARTS AT 19.30 , AND I GOT REALLY mad when I LOOKED AT MY WATCH AND NOTICED THAT I HAD BEEN WAITING FOR 40 ( forty ) MINUTES AND THE SHOW HADN\\'T STARTED YET\"\\r\\nI COULDN\\'T BELIVE IT . HOW CAN THIS CLASS OF THEATRE BE SO ..,I COULDN\\'T BELIEVE IT . HOW CAN THIS CLASS OF THEATRE BE SO ..,I couldn\\'t understand it. HOW CAN THIS CLASS OF THEATRE BE SO..,I couldn\\'t live it. HOW CAN THIS CLASS OF THEATRE BE SO ..\\r\\n\"OH I\\'M GETING MAD AGAIN SO I AM GOING TO TELL YOU ONE LAST THING , IT WAS THE MOST HORRIBLE NIGHT I HAD EVER HAD SO I DEMEND MY MONEY BACK !\",\"OH I\\'M GETING MAD AGAIN SO I AM GOING TO TELL YOU ONE LAST THING , IT WAS THE MOST HORRIBLE NIGHT I HAD EVER HAD SO I DEMAND MY MONEY BACK !\",\"OH I\\'M GETTING MAD AGAIN, so I am going to tell you one last thing, it was the most horrible night I have ever had so I will definitely give my money back!\",\"OH I\\'M GETTING MAD AGAIN, so I am going to tell you one last thing , it was the most horrible night I\\'ve ever had so I would recommend my money back!\"\\r\\nMODERN TECHNOLOGY HAS AFFECTED ME IN SEVERAL WAYS . I MEAN THE MORE THE TECHNOLOGY ADVANCES ; THE MORE CONFORTNESSCOMFORTABLE WE GET .,MODERN TECHNOLOGY HAS AFFECTED ME IN SEVERAL WAYS . I MEAN THE MORE THE TECHNOLOGY ADVANCES ; THE MORE COMFORTCOMFORTABLE WE GET .,\"Modern technology has affected me in several ways. I mean the more technology advances, the more comfortably we get.\",\"MODERN TECHNOLOGY HAS AFFECTED ME IN SEVERAL ways. I mean the more technological advances, the more comfortable we get.\"\\r\\nBUT I THINK ALSO THAT WITH MODERN TECHNOLOGY WE GET MORE COMFORTABLE SO THAT MAKES ME A PACIVE PERSON AND NOT SO ACTIVE .,BUT I THINK ALSO THAT WITH MODERN TECHNOLOGY WE GET MORE COMFORTABLE SO THAT MAKES ME A PASSIVE PERSON AND NOT SO ACTIVE .,BUT I think that with modern technology we GET more comfortable so that makes me a pacifist person and not so active.,BUT I think that with modern technology we get more comfortable so that makes me a pacifist person and not so active.\\r\\n\"THIS CAN BE BAD TOO BECAUSE IF I GET USED TO BEING CONFORTABLE , WHEN I NEED TO DO HARD WORK I WON\\'T BE ABLE TO .\",\"THIS CAN BE BAD TOO BECAUSE IF I GET USED TO BEING COMFORTABLE , WHEN I NEED TO DO HARD WORK I WON\\'T BE ABLE TO .\",\"This can be bad too because if I get used to being comfortable, when I need to do hard work, I won\\'t be able to.\",\"THIS CAN BE BAD TOO, because if I get used to being comfortable, when I need to do hard work, I won\\'t be able to do it.\"\\r\\n\"Everybody attented go to the show , funny , and happ in the end , and what have we go then ?\",\"Everybody attented go to the show , funny , and happy in the end , and what have we go then ?\",\"Everybody hoped to go to the show, funny, and happy in the end, and what have we gone then?\",\"Everybody hoped to go to the show , funny , and happen in the end , and what have we gone then ?\"\\r\\nDisapponted !,Disappointed !,Disappointed!,Disapponted!\\r\\n\"If you could not manage the programe , why did n\\'t you informe people before the programe started ?\",\"If you could not manage the programme , why did n\\'t you inform people before the programme started ?\",\"If you could not manage the program, why didn\\'t you inform people before the program started?\",\"If you could not manage the program, why didn\\'t you inform people before the program started?\"\\r\\nSo I think we would not be live if our ancestors did not develop siences and tecnologies .,So I think we would not be alive if our ancestors did not develop sciences and technologies .,So I think we would not be alive if our ancestors did not develop sciences and technologies.,So I think we would not be alive if our ancestors did not develop civilizations and tecnologies.\\r\\n\"Imagine yourself you are working in factory just to do one thing like put air a on car if they fire you you will be destroyed , becouse you do n\\'t know more than to put air a in car .\",\"Imagine yourself you are working in factory just to do one thing like put air a on car if they fire you you will be destroyed , because you do n\\'t know more than to put air a in car .\",\"Imagine yourself you are working in factories just to do one thing like put air on cars if they fire you, because you don\\'t know more than to put air on cars.\",\"Imagine yourself you are working in a factory just to do one thing like put air on a car if they fire you, you will be destroyed because you don\\'t know more than to put air on a car.\"\\r\\n\"For example , they can play football whenever they want , but the olders can not .\",\"For example , they can play football whenever they want , but the elders can not .\",\"For example, they can play football whenever they want, but the others can not.\",\"For example, they can play football whenever they want, but the older ones can not.\"\\r\\n\"While It is true that consumers preffer to buy products with lower prices , when international companies that are already certified begin to send their products to market , people will preffer to consume those goods because the difference in price will probbably not affect them too much .\",\"While It is true that consumers prefer to buy products with lower prices , when international companies that are already certified begin to send their products to market , people will prefer to consume those goods because the difference in price will probably not affect them too much .\",\"While it is true that consumers prefer to buy products with lower prices, when international companies that are already certified begin to send their products to market, people will prefer to consume those goods because the difference in price will probably not affect them too much.\",\"While it is true that consumers prefer to buy products with lower prices, when international companies that are already certified begin to send their products to market, people will prefer to consume those goods because the difference in price will probably not affect them too much.\"\\r\\nAnd young people spend more time on ther lifestyles .,And young people spend more time on their lifestyles .,And young people spend more time on their lifestyles.,And young people spend more time on their lifestyles.\\r\\nStudents can focus on only a few subjects they are intwerested in and they will become experts in those areas .,Students can focus on only a few subjects they are interested in and they will become experts in those areas .,Students can focus on only a few subjects they are interested in and they will become experts in those areas.,Students can focus on only a few subjects they are interested in and they will become experts in those areas.\\r\\nHe thinks differently than others and he has succeded .,He thinks differently than others and he has succeeded .,He thinks differently than others and he has succeeded.,He thinks differently than others and he has succeeded.\\r\\nThese activities make the community a better place to live and include these values in all the members .,These activities make the community a better place to live and include those values in all the members .,These activities make the community a better place to live and include these values in all the members.,These activities make the community a better place to live and include these values in all the members.\\r\\n\"all the broad knowledge helps they to understand their major in university classes , as well as help they to make a correct choice in a specialized area .\",\"all the broad knowledge helps them to understand their major in university classes , as well as help them to make a correct choice in a specialized area .\",\"All the broad knowledge helps them understand their major in university classes, as well as help them make a correct choice in a specialized area.\",\"All the broad knowledge helps them to understand their major in university classes, as well as help them to make a correct choice in a specialized area.\"\\r\\nI could very easily understand why he would always brang bad marks home .,I could very easily understand why he would always bring bad marks home .,I could very easily understand why he would always bring bad marks home.,I could very easily understand why he would always bring bad marks home.\\r\\n\"Then , when we went to the Science Olympiad , she had diverse knowledge about the subects , and it was not new for her to think about new things .\",\"Then , when we went to the Science Olympiad , she had diverse knowledge about the subjects , and it was not new for her to think about new things .\",\"Then, when we went to the Science Olympiad, she had diverse knowledge about the subjects, and it was not new for her to think about new things.\",\"Then, when we went to the Science Olympiad, she had diverse knowledge about the subjects, and it was not new for her to think about new things.\"\\r\\n\"If every person tries to learn and understand lots of scientifc subjects , no person will do it and , as a result of this , no science will be improved .\",\"If every person tries to learn and understand lots of scientific subjects , no person will do it and , as a result of this , no science will be improved .\",\"If every person tries to learn and understand lots of scientific subjects, no person will do it and, as a result of this, no science will be improved.\",\"If every person tries to learn and understand lots of scientific subjects, no person will do it and, as a result of this, no science will be improved.\"\\r\\nthey will run out very soon at the current rate of utilisation .,they will run out very soon at the current rate of utilization .,They will run out very soon as the current rate of utilization is low.,They will run out very soon at the current rate of utilization.\\r\\nand it will put your maind into non-stop learning .,and it will put your mind into non-stop learning .,And it will put your mind into non-stop learning.,And it will put your mind into non-stop learning.\\r\\nIn today \\'s world Compuer skills are the first important life skill .,In today \\'s world Computer skills are the first important life skill .,\"In today\\'s world, computer skills are the first important life skill.\",\"In today\\'s world, skills are the first important life skill.\"\\r\\n\"I have never stopped myself to think this , but this is a real possibility for the fucture .\",\"I have never stopped myself to think this , but this is a real possibility for the future .\",\"I have never stopped myself to think about this, but this is a real possibility for the future.\",\"I have never stopped myself to think this, but this is a real possibility for the future.\"\\r\\n\"If we conseder an idea as a totally autonomous concept within the individual process of defining reality , I think the ideas are useless , and not based on experience .\",\"If we consider an idea as a totally autonomous concept within the individual process of defining reality , I think the ideas are useless , and not based on experience .\",\"If we consider an idea as a totally autonomous concept within the individual process of defining reality, I think the ideas are useless, and not based on experience.\",\"If we consider an idea as a totally autonomous concept within the individual process of defining reality, I think the ideas are useless and not based on experience.\"\\r\\n\"If there are specialized docters that have done the operation often , he becomes talented in his job .\",\"If there are specialized doctors that have done the operation often , he becomes talented in his job .\",\"If there are specialized doctors that have done the operation often, he becomes talented in his job.\",\"If there are specialized doctors that have done the operation often, he becomes talented in his job.\"\\r\\nIt will be good situstion .,It will be good situation .,It will be a good situation.,It will be a good situation.\\r\\nthe school teachers there are the ones who create the future of the younger genaration so we have to teach them better .,the school teachers there are the ones who create the future of the younger generation so we have to teach them better .,\"The school teachers there are the ones who create the future of the younger generation, so we have to teach them better.\",The school teachers there are the ones who create the future of the younger generation so we have to teach them better.\\r\\n\"When you go uphill , you hvae to bend your back .\",\"When you go uphill , you have to bend your back .\",\"When you go uphill, you have to bend your back.\",\"When you go uphill, you have to bend your back.\"\\r\\nThey paid much attemtion to their faces and spent lots of money to shop .,They paid much attention to their faces and spent lots of money to shop .,They paid attention to their faces and spent lots of money shopping.,They paid a lot of attention to their faces and spent lots of money shopping.\\r\\n\"I started to notice the ways of foreign clothing and hair styles these past days by watching TV programs , such as Friends , Srcubs , etc .\",\"I started to notice the ways of foreign clothing and hair styles these past days by watching TV programs , such as Friends , Scrubs , etc .\",\"I started to notice the ways of foreign clothing and hair styles, these past days by watching TV programs, such as Friends, Srcubs, etc.\",\"I started to notice the ways of foreign clothing and hair styles these past days by watching TV programs such as Friends , Srcubs , etc.\"\\r\\nI like you give me any commets and opinoins too .,I like you give me any comments and opinions too .,I like you give me any comments and opinions too.,I like you give me any compliments and opinoins too.\\r\\nIt was like warter and his bottom was red .,It was like water and his bottom was red .,It was like water and his bottom was red.,It was like a warter and his bottom was red.\\r\\n\"Everyday , there are new thinngs to try .\",\"Everyday , there are new things to try .\",\"Every day, there are new things to try.\",\"Every day, there are new things to try.\"\\r\\nIt \\'s a kind of Tai - wan stayle massage .,It \\'s a kind of Tai - wan style massage .,It\\'s a kind of Tai - wan style massage.,It\\'s a kind of Tai -wan stayle massage.\\r\\n\"After that , I went to a fittness club which has bedrock bathing .\",\"After that , I went to a fitness club which has bedrock bathing .\",\"After that, I went to a fitness club which has bedrock bathing.\",\"After that, I went to a fitness club which has bedrock bathing.\"\\r\\nIt \\'s nearlly 12 pm .,It \\'s nearly 12 pm .,It\\'s nearly 12 pm.,It\\'s nearly 12 pm.\\r\\nElections will be held on Augst 30th .,Elections will be held on August 30th .,Elections will be held on Augst 30th.,Elections will be held on Augst 30th .\\r\\nThis time they may lose adoministration .,This time they may lose administration .,This time they may lose administration.,This time they may lose their dominance.\\r\\nIt is made of spnge : ) It is cute .,It is made of sponge : ) It is cute .,It is made of sponge.) It is cute.,It is made of spnge : ) It is cute.\\r\\n\"I \\'m laerning English , but it \\'s really difficult for me !\",\"I \\'m learning English , but it \\'s really difficult for me !\",\"I\\'m learning English, but it\\'s really difficult for me!\",\"I\\'m learning English, but it\\'s really difficult for me!\"\\r\\n\"I was releaved to hear the doctor \\'s diagnosis , but I \\'m still worried .\",\"I was relieved to hear the doctor \\'s diagnosis , but I \\'m still worried .\",\"I was relieved to hear the doctor\\'s diagnosis, but I\\'m still worried.\",\"I was relieved to hear the doctor\\'s diagnosis, but I\\'m still worried.\"\\r\\n\"Inovative and original ideas are good , but if you can not find them , you should know that most of research work is just refinement of other \\'s work .\",\"Innovative and original ideas are good , but if you can not find them , you should know that most of research work is just refinement of other \\'s work .\",\"Innovative and original ideas are good, but if you can not find them, you should know that most of the research work is just a refinement of other\\'s work.\",\"Innovative and original ideas are good, but if you can not find them, you should know that most of research work is just refinement of other\\'s work.\"\\r\\nI was somewhat puzzied what to say .,I was somewhat puzzled what to say .,I was somewhat puzzled what to say.,I was somewhat puzzied what to say.\\r\\n\"So , after he was made consul by the Romans , he went to Afrika , where he fought againt Yugurta , who was king of Numidia .\",\"So , after he was made consul by the Romans , he went to Africa , where he fought against Yugurta , who was king of Numidia .\",\"So, after he was made consul of the Romans, he went to Afrika, where he fought against Yugurta, who was king of Numidia.\",\"So after he was made consul by the Romans, he went to Afrika , where he fought against Yugurta , who was king of Numidia .\"\\r\\ncaz I don have a school until then ! !,cuz I don have a school until then ! !,Because I don\\'t have a school until then!,I don\\'t have a school until then!\\r\\nThat \\'s why I \\'m very excited to teach studens English ! !,That \\'s why I \\'m very excited to teach students English ! !,That\\'s why I\\'m very excited to teach students English!,That\\'s why I\\'m very excited to teach students English!\\r\\n\"Those are such things as playing sports , reading books , lithening to music , taking walks .\",\"Those are such things as playing sports , reading books , listening to music , taking walks .\",\"Those are such things as playing sports, reading books, listening to music, taking walks.\",\"Those are such things as playing sports , reading books , listening to music , taking walks .\"\\r\\n'"
      ]
     },
     "execution_count": 72,
     "metadata": {},
     "output_type": "execute_result"
    }
   ],
   "source": [
    "data = pd.DataFrame(grammar_df)\n",
    "data.to_csv('error_analysis.csv', index=False, mode='w')\n"
   ]
  },
  {
   "cell_type": "code",
   "execution_count": 61,
   "metadata": {},
   "outputs": [
    {
     "name": "stdout",
     "output_type": "stream",
     "text": [
      " Volume in drive B is Personal\n",
      " Volume Serial Number is 86B5-0838\n",
      "\n",
      " Directory of b:\\Bernard\\Programming\\english_correction_models\n",
      "\n",
      "10/25/2022  02:28 PM    <DIR>          .\n",
      "10/25/2022  11:44 AM    <DIR>          ..\n",
      "10/25/2022  11:45 AM                71 .gitignore\n",
      "10/25/2022  01:50 PM            15,663 english_corrector_models.ipynb\n",
      "10/25/2022  02:28 PM             6,193 error analysis.xlsx\n",
      "10/25/2022  01:48 PM            62,465 grammar_error_check.csv\n",
      "10/25/2022  11:45 AM    <DIR>          grammatical error detection\n",
      "10/25/2022  11:45 AM                27 README.md\n",
      "10/25/2022  11:45 AM    <DIR>          spell error detection\n",
      "               5 File(s)         84,419 bytes\n",
      "               4 Dir(s)  86,259,576,832 bytes free\n"
     ]
    }
   ],
   "source": [
    "ls"
   ]
  },
  {
   "cell_type": "code",
   "execution_count": null,
   "metadata": {},
   "outputs": [],
   "source": []
  }
 ],
 "metadata": {
  "kernelspec": {
   "display_name": "Python 3.10.6 ('correct-env')",
   "language": "python",
   "name": "python3"
  },
  "language_info": {
   "codemirror_mode": {
    "name": "ipython",
    "version": 3
   },
   "file_extension": ".py",
   "mimetype": "text/x-python",
   "name": "python",
   "nbconvert_exporter": "python",
   "pygments_lexer": "ipython3",
   "version": "3.10.6"
  },
  "orig_nbformat": 4,
  "vscode": {
   "interpreter": {
    "hash": "4374edbdce5cf0ebc5572306dfb5843c5403ff613b25869cdbf8c66a66663275"
   }
  }
 },
 "nbformat": 4,
 "nbformat_minor": 2
}
