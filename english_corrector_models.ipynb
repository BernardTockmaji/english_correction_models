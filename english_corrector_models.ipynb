{
 "cells": [
  {
   "cell_type": "markdown",
   "metadata": {},
   "source": [
    "## Importing Libraries & Datasets"
   ]
  },
  {
   "cell_type": "code",
   "execution_count": 23,
   "metadata": {},
   "outputs": [],
   "source": [
    "\n",
    "#For Implementing Gramformer Solution\n",
    "from gramformer import Gramformer\n",
    "\n",
    "#for implementing Bert Solution\n",
    "from happytransformer import HappyTextToText, TTSettings\n",
    "\n",
    "#For Implementing LanguageTool Solution\n",
    "import language_tool_python\n",
    "\n",
    "#For GingerIt Solution\n",
    "from gingerit.gingerit import GingerIt\n",
    "\n",
    "#For Symspellpy\n",
    "import pkg_resources\n",
    "from symspellpy import SymSpell\n",
    "\n",
    "#For Web Application Development\n",
    "import gradio as gr\n",
    "\n",
    "import pandas as pd\n",
    "import sys \n"
   ]
  },
  {
   "cell_type": "code",
   "execution_count": 22,
   "metadata": {},
   "outputs": [],
   "source": [
    "df = pd.read_csv('./grammatical error detection/NLP Assignment/test_data.csv')\n",
    "df.head(20)\n",
    "test_df = df.head(40)\n",
    "pd.set_option('display.max_colwidth', None)"
   ]
  },
  {
   "cell_type": "markdown",
   "metadata": {},
   "source": [
    "## Gramformer Model"
   ]
  },
  {
   "cell_type": "code",
   "execution_count": 2,
   "metadata": {},
   "outputs": [
    {
     "data": {
      "text/plain": "Downloading:   0%|          | 0.00/892M [00:00<?, ?B/s]",
      "application/vnd.jupyter.widget-view+json": {
       "version_major": 2,
       "version_minor": 0,
       "model_id": "7b3953e441134570abce9c591936079c"
      }
     },
     "metadata": {},
     "output_type": "display_data"
    },
    {
     "name": "stdout",
     "output_type": "stream",
     "text": [
      "[Gramformer] Grammar error correct/highlight model loaded..\n"
     ]
    }
   ],
   "source": [
    "gf = Gramformer(models=1, use_gpu=False) #1=corrector, 2=detector"
   ]
  },
  {
   "cell_type": "code",
   "execution_count": 3,
   "metadata": {},
   "outputs": [
    {
     "data": {
      "text/plain": "{'hello my dear child.'}"
     },
     "execution_count": 3,
     "metadata": {},
     "output_type": "execute_result"
    }
   ],
   "source": [
    "gf.correct('hello my dear childs')"
   ]
  },
  {
   "cell_type": "markdown",
   "metadata": {},
   "source": [
    "    Function to build web application using gradio"
   ]
  },
  {
   "cell_type": "code",
   "execution_count": null,
   "metadata": {},
   "outputs": [],
   "source": [
    "def correct(sentence):\n",
    "    res = gf.correct(sentence) \n",
    "    return res\n",
    "# app_inputs = gr.inputs.Textbox(lines=3, placeholder=\"Enter a grammatically incorrect sentence here...\")\n",
    "\n",
    "# interface = gr.Interface(fn=correct, \n",
    "#                         inputs=app_inputs,\n",
    "#                          outputs='text', \n",
    "#                         title='Hi there, I\\'m Gramformer')\n",
    "\n",
    "#interface.launch()"
   ]
  },
  {
   "cell_type": "markdown",
   "metadata": {},
   "source": [
    "    Gramformer highlighter"
   ]
  },
  {
   "cell_type": "code",
   "execution_count": null,
   "metadata": {},
   "outputs": [],
   "source": [
    "# gh = Gramformer(models=3, use_gpu=False) #1=corrector, 2=detector"
   ]
  },
  {
   "cell_type": "code",
   "execution_count": null,
   "metadata": {},
   "outputs": [],
   "source": [
    "# gh.highlight(orig='to tha store',cor='to the store')"
   ]
  },
  {
   "cell_type": "markdown",
   "metadata": {},
   "source": [
    "### Trying Gramformer on Datasets"
   ]
  },
  {
   "cell_type": "code",
   "execution_count": null,
   "metadata": {},
   "outputs": [],
   "source": [
    "def gramformer_corrector(text):\n",
    "    res = gf.correct(text) \n",
    "    return res"
   ]
  },
  {
   "cell_type": "markdown",
   "metadata": {},
   "source": [
    "    Calling Gramformer model for correction"
   ]
  },
  {
   "cell_type": "code",
   "execution_count": null,
   "metadata": {},
   "outputs": [],
   "source": [
    "test_df['corrected_sentence'] = test_df['input'].apply(lambda text: gramformer_corrector(text))\n",
    "test_df.head(40)"
   ]
  },
  {
   "cell_type": "markdown",
   "metadata": {},
   "source": [
    "## Bert + Huggingface Model "
   ]
  },
  {
   "cell_type": "code",
   "execution_count": 12,
   "metadata": {},
   "outputs": [
    {
     "name": "stdout",
     "output_type": "stream",
     "text": [
      "But there's no doubt that Dudley, as he runs, would bring name familiarity to the rac given that he had two stints playing for the Trail Blazers , from 1993-97 and from 2001\n"
     ]
    }
   ],
   "source": [
    "happy_tt = HappyTextToText(\"T5\", \"vennify/t5-base-grammar-correction\")\n",
    "args = TTSettings(num_beams=5, min_length=1)\n",
    "result = happy_tt.generate_text(\"spell and grammar correction: But there 's no oubt that Dudley , im he runs , would bring name familiarity to the rac given that he had two stints playing for the Trail Blazers , from 1993-97 and from 2001-03 .\", args=args)\n",
    "print(result.text)"
   ]
  },
  {
   "cell_type": "code",
   "execution_count": 13,
   "metadata": {},
   "outputs": [],
   "source": [
    "def huggingface_corrector(text):\n",
    "    result = happy_tt.generate_text('spell and grammar correction: ' + text, args=TTSettings(num_beams=1, min_length=1, max_length=100))\n",
    "    return result.text\n",
    "# app_hugginface_inputs = gr.inputs.Textbox(lines=3, placeholder=\"Enter a grammatically incorrect sentence here...\")\n",
    "\n",
    "# interface2 = gr.Interface(fn=huggingface_corrector, \n",
    "#                         inputs=app_hugginface_inputs,\n",
    "#                         outputs='text', \n",
    "#                         title='Hi there, I\\'m Huggingface')\n",
    "\n",
    "#interface2.launch()"
   ]
  },
  {
   "cell_type": "markdown",
   "metadata": {},
   "source": [
    "### Trying Bert + Hugging Face on Datasets"
   ]
  },
  {
   "cell_type": "code",
   "execution_count": null,
   "metadata": {},
   "outputs": [],
   "source": [
    "def huggingface_corrector(text):\n",
    "    result = happy_tt.generate_text('grammar: ' + text, args=TTSettings(num_beams=1, min_length=1, max_length=100))\n",
    "    return result.text"
   ]
  },
  {
   "cell_type": "markdown",
   "metadata": {},
   "source": [
    "    Calling Bert model for correction"
   ]
  },
  {
   "cell_type": "code",
   "execution_count": null,
   "metadata": {},
   "outputs": [],
   "source": [
    "test_df['corrected_sentence'] = test_df['input'].apply(lambda text: huggingface_corrector(text))\n",
    "test_df.head(40)"
   ]
  },
  {
   "cell_type": "markdown",
   "metadata": {},
   "source": [
    "## Language Tool Model"
   ]
  },
  {
   "cell_type": "code",
   "execution_count": null,
   "metadata": {},
   "outputs": [],
   "source": [
    "my_tool = language_tool_python.LanguageTool('en-US')  \n",
    "my_text = \"\"\"LanguageTool provides utility to check grammar and spelling errors. We just have to paste the text here and click the 'Check Text' button. Click the colored phrases for for information on potential errors. or we can use this text too see an some of the issues that LanguageTool can dedect. Whot do someone thinks of grammar checkers? Please not that they are not perfect. Style problems get a blue marker: It is 7 P.M. in the evening. The weather was nice on Monday, 22 November 2021\"\"\"   \n",
    "\n",
    "def english_text_corrector(tool, text):\n",
    "    \n",
    "    matches = tool.check(text)\n",
    "\n",
    "    #empty lists\n",
    "    Mistakes = [] \n",
    "    Corrections = []  \n",
    "    StartPositions = []  \n",
    "    EndPositions = []  \n",
    "\n",
    "    for rules in matches:\n",
    "        if len(rules.replacements) > 0:  \n",
    "            StartPositions.append(rules.offset)  \n",
    "            EndPositions.append(rules.errorLength + rules.offset)  \n",
    "            Mistakes.append(my_text[rules.offset : rules.errorLength + rules.offset])  \n",
    "            Corrections.append(rules.replacements[0]) \n",
    "\n",
    "    print(\"Mistakes made\")\n",
    "    print (Mistakes)\n",
    "    print (\"\\nRecommended Corrections\")\n",
    "    print(Corrections)\n",
    "    print (\"\\nMistake Starting character number\")\n",
    "    print(StartPositions)\n",
    "    print (\"\\nMistake EndPoint character number\")\n",
    "    print(EndPositions)\n",
    "\n",
    "    mistakes_number = len (Mistakes)\n",
    "\n",
    "    print( \"\\nNumber of mistakes made \" + str(mistakes_number))\n",
    "    #return mistakes_number\n",
    "\n",
    "#english_text_corrector(my_tool, my_text)"
   ]
  },
  {
   "cell_type": "markdown",
   "metadata": {},
   "source": [
    "### Language Tool Model on Datasets"
   ]
  },
  {
   "cell_type": "code",
   "execution_count": null,
   "metadata": {},
   "outputs": [],
   "source": [
    "tool = language_tool_python.LanguageTool('en-US')\n",
    "def language_tool_corrector(text:str):\n",
    "    correction = tool.correct(text)\n",
    "    return correction"
   ]
  },
  {
   "cell_type": "markdown",
   "metadata": {},
   "source": [
    "    Calling language tool model for correction"
   ]
  },
  {
   "cell_type": "code",
   "execution_count": null,
   "metadata": {},
   "outputs": [],
   "source": [
    "test_df['corrected_sentence'] = test_df['input'].apply(lambda text: language_tool_corrector(text))\n",
    "test_df.head(40)"
   ]
  },
  {
   "cell_type": "markdown",
   "metadata": {},
   "source": [
    "## GingerIt Model"
   ]
  },
  {
   "cell_type": "code",
   "execution_count": 17,
   "metadata": {},
   "outputs": [
    {
     "data": {
      "text/plain": "'The smell of flowers brings back memories.'"
     },
     "execution_count": 17,
     "metadata": {},
     "output_type": "execute_result"
    }
   ],
   "source": [
    "text = 'The smelt of fliwers bring back memories.'\n",
    "\n",
    "parser = GingerIt()\n",
    "parser.parse(text)['result']"
   ]
  },
  {
   "cell_type": "markdown",
   "metadata": {},
   "source": [
    "### Trying GingerIt Model on Datasets"
   ]
  },
  {
   "cell_type": "code",
   "execution_count": null,
   "metadata": {},
   "outputs": [],
   "source": [
    "def ginger_corrector(text: str):\n",
    "    \n",
    "    parser = GingerIt()\n",
    "    correction = parser.parse(text)['result']\n",
    "    return correction"
   ]
  },
  {
   "cell_type": "markdown",
   "metadata": {},
   "source": [
    "        Calling GingerIt model for correction"
   ]
  },
  {
   "cell_type": "code",
   "execution_count": null,
   "metadata": {},
   "outputs": [],
   "source": [
    "test_df['corrected_sentence'] = test_df['input'].apply(lambda text: ginger_corrector(text))\n",
    "test_df.head(40)"
   ]
  },
  {
   "cell_type": "markdown",
   "metadata": {},
   "source": [
    "## Symspellpy Model"
   ]
  },
  {
   "cell_type": "code",
   "execution_count": 30,
   "metadata": {},
   "outputs": [
    {
     "name": "stdout",
     "output_type": "stream",
     "text": [
      "where is the love he had dated for much of the past who couldn't read in six grade and inspired him, 9, 0\n"
     ]
    }
   ],
   "source": [
    "sym_spell = SymSpell(max_dictionary_edit_distance=2, prefix_length=7)\n",
    "dictionary_path = pkg_resources.resource_filename(\n",
    "    \"symspellpy\", \"frequency_dictionary_en_82_765.txt\"\n",
    ")\n",
    "bigram_path = pkg_resources.resource_filename(\n",
    "    \"symspellpy\", \"frequency_bigramdictionary_en_243_342.txt\"\n",
    ")\n",
    "# term_index is the column of the term and count_index is the\n",
    "# column of the term frequency\n",
    "sym_spell.load_dictionary(dictionary_path, term_index=0, count_index=1)\n",
    "sym_spell.load_bigram_dictionary(bigram_path, term_index=0, count_index=2)\n",
    "input_term = (\n",
    "    \"whereis th elove hehad dated forImuch of thepast who \"\n",
    "    \"couqdn'tread in sixtgrade and ins pired him\"\n",
    ")\n",
    "# max edit distance per lookup (per single word, not per whole input string)\n",
    "suggestions = sym_spell.lookup_compound(input_term, max_edit_distance=2)\n",
    "\n",
    "for suggestion in suggestions:\n",
    "    print(suggestion)"
   ]
  },
  {
   "cell_type": "code",
   "execution_count": 33,
   "metadata": {},
   "outputs": [],
   "source": [
    "def symspelly_corrector(text):\n",
    "    sym_spell = SymSpell(max_dictionary_edit_distance=2, prefix_length=7)\n",
    "    dictionary_path = pkg_resources.resource_filename(\n",
    "        \"symspellpy\", \"frequency_dictionary_en_82_765.txt\"\n",
    "    )\n",
    "    bigram_path = pkg_resources.resource_filename(\n",
    "        \"symspellpy\", \"frequency_bigramdictionary_en_243_342.txt\"\n",
    "    )\n",
    "\n",
    "    sym_spell.load_dictionary(dictionary_path, term_index=0, count_index=1)\n",
    "    sym_spell.load_bigram_dictionary(bigram_path, term_index=0, count_index=2)\n",
    "    suggestions = sym_spell.lookup_compound(text, max_edit_distance=2)\n",
    "\n",
    "    for suggestion in suggestions:\n",
    "        return suggestion"
   ]
  },
  {
   "cell_type": "code",
   "execution_count": 34,
   "metadata": {},
   "outputs": [
    {
     "name": "stderr",
     "output_type": "stream",
     "text": [
      "/home/elearning/miniconda3/envs/corrector-env/lib/python3.7/site-packages/ipykernel_launcher.py:1: SettingWithCopyWarning: \n",
      "A value is trying to be set on a copy of a slice from a DataFrame.\n",
      "Try using .loc[row_indexer,col_indexer] = value instead\n",
      "\n",
      "See the caveats in the documentation: https://pandas.pydata.org/pandas-docs/stable/user_guide/indexing.html#returning-a-view-versus-a-copy\n",
      "  \"\"\"Entry point for launching an IPython kernel.\n"
     ]
    },
    {
     "data": {
      "text/html": [
       "<div>\n",
       "<style scoped>\n",
       "    .dataframe tbody tr th:only-of-type {\n",
       "        vertical-align: middle;\n",
       "    }\n",
       "\n",
       "    .dataframe tbody tr th {\n",
       "        vertical-align: top;\n",
       "    }\n",
       "\n",
       "    .dataframe thead th {\n",
       "        text-align: right;\n",
       "    }\n",
       "</style>\n",
       "<table border=\"1\" class=\"dataframe\">\n",
       "  <thead>\n",
       "    <tr style=\"text-align: right;\">\n",
       "      <th></th>\n",
       "      <th>input</th>\n",
       "      <th>corrected_sentence</th>\n",
       "    </tr>\n",
       "  </thead>\n",
       "  <tbody>\n",
       "    <tr>\n",
       "      <th>0</th>\n",
       "      <td>I believe they will master Japanese soon because they were selected as scholarship recipients .</td>\n",
       "      <td>i believe they will master japanese soon because they were selected as scholarship recipients, 4, 0</td>\n",
       "    </tr>\n",
       "    <tr>\n",
       "      <th>1</th>\n",
       "      <td>I am looking for it .</td>\n",
       "      <td>i am looking for it, 3, 0</td>\n",
       "    </tr>\n",
       "    <tr>\n",
       "      <th>2</th>\n",
       "      <td>Apple is a round fruit with smooth and colorful skin , red , green and sometimes gold .</td>\n",
       "      <td>apple is a round fruit with smooth and colourful skin red green and sometimes gold, 8, 0</td>\n",
       "    </tr>\n",
       "    <tr>\n",
       "      <th>3</th>\n",
       "      <td>Let It Will Be Push .</td>\n",
       "      <td>let it will be push, 7, 0</td>\n",
       "    </tr>\n",
       "    <tr>\n",
       "      <th>4</th>\n",
       "      <td>I rode on this ship from Sendai .</td>\n",
       "      <td>i rode on this ship from sendai, 4, 0</td>\n",
       "    </tr>\n",
       "    <tr>\n",
       "      <th>5</th>\n",
       "      <td>I thought Korean is very interesting language when I was sutdying Korean .</td>\n",
       "      <td>i thought korean is very interesting language when i was studying korean, 7, 0</td>\n",
       "    </tr>\n",
       "    <tr>\n",
       "      <th>6</th>\n",
       "      <td>Nobody is perfect .</td>\n",
       "      <td>nobody is perfect, 3, 3</td>\n",
       "    </tr>\n",
       "    <tr>\n",
       "      <th>7</th>\n",
       "      <td>Can you lend me some money ?</td>\n",
       "      <td>can you lend me some money, 3, 0</td>\n",
       "    </tr>\n",
       "    <tr>\n",
       "      <th>8</th>\n",
       "      <td>Does anyone correct my previous article ?XD</td>\n",
       "      <td>does anyone correct my previous article cd, 4, 0</td>\n",
       "    </tr>\n",
       "    <tr>\n",
       "      <th>9</th>\n",
       "      <td>Similarly , I want to thank and for all their help and the nice time spent together , and wish to continue being together .</td>\n",
       "      <td>similarly i want to thank and for all their help and the nice time spent together and wish to continue being together, 8, 0</td>\n",
       "    </tr>\n",
       "    <tr>\n",
       "      <th>10</th>\n",
       "      <td>I just hope everything is going to be OK .</td>\n",
       "      <td>i just hope everything is going to be of, 5, 0</td>\n",
       "    </tr>\n",
       "    <tr>\n",
       "      <th>11</th>\n",
       "      <td>I think that I will not go to that brand shoes shop forever !</td>\n",
       "      <td>i think that i will not go to that brand shoes shop forever, 4, 0</td>\n",
       "    </tr>\n",
       "    <tr>\n",
       "      <th>12</th>\n",
       "      <td>for example , one hospital in Japan has ' a baby post ' which mother who can not raise her baby can leave her baby ,</td>\n",
       "      <td>for example one hospital in japan has a baby post which mother who can not raise her baby can leave her baby, 10, 0</td>\n",
       "    </tr>\n",
       "    <tr>\n",
       "      <th>13</th>\n",
       "      <td>My sister is birthday coming .</td>\n",
       "      <td>my sister is birthday coming, 3, 0</td>\n",
       "    </tr>\n",
       "    <tr>\n",
       "      <th>14</th>\n",
       "      <td>Tell me , please</td>\n",
       "      <td>tell me please, 4, 22</td>\n",
       "    </tr>\n",
       "    <tr>\n",
       "      <th>15</th>\n",
       "      <td>see you</td>\n",
       "      <td>see you, 0, 1992011</td>\n",
       "    </tr>\n",
       "    <tr>\n",
       "      <th>16</th>\n",
       "      <td>In order to solve the situation , we decided to have a lunch meeting every Monday .</td>\n",
       "      <td>in order to solve the situation we decided to have a lunch meeting every monday, 6, 0</td>\n",
       "    </tr>\n",
       "    <tr>\n",
       "      <th>17</th>\n",
       "      <td>This is my first topic in my diary .</td>\n",
       "      <td>this is my first topic in my diary, 3, 0</td>\n",
       "    </tr>\n",
       "    <tr>\n",
       "      <th>18</th>\n",
       "      <td>it seemed what I did was nothing to do with them .</td>\n",
       "      <td>it seemed what i did was nothing to do with them, 3, 0</td>\n",
       "    </tr>\n",
       "    <tr>\n",
       "      <th>19</th>\n",
       "      <td>To achieve the purpose , this week I am trying to speak to some foreigners , and I should reduce the occasions to talk with my Japanese friends .</td>\n",
       "      <td>to achieve the purpose this week i am trying to speak to some foreigners and i should reduce the occasions to talk with my japanese friends, 10, 0</td>\n",
       "    </tr>\n",
       "    <tr>\n",
       "      <th>20</th>\n",
       "      <td>The family will support you as what she has done .</td>\n",
       "      <td>the family will support you as what she has done, 3, 0</td>\n",
       "    </tr>\n",
       "    <tr>\n",
       "      <th>21</th>\n",
       "      <td>Students who turn their efforts to studying at university and have an intention of continuing to play in the college sports team .</td>\n",
       "      <td>students who turn their efforts to studying at university and have an intention of continuing to play in the college sports team, 3, 0</td>\n",
       "    </tr>\n",
       "    <tr>\n",
       "      <th>22</th>\n",
       "      <td>about my hometown</td>\n",
       "      <td>about my hometown, 0, 6</td>\n",
       "    </tr>\n",
       "    <tr>\n",
       "      <th>23</th>\n",
       "      <td>As I expected , I could not do well in the interview .</td>\n",
       "      <td>as i expected i could not do well in the interview, 7, 0</td>\n",
       "    </tr>\n",
       "    <tr>\n",
       "      <th>24</th>\n",
       "      <td>I loved it .</td>\n",
       "      <td>i loved it, 3, 162</td>\n",
       "    </tr>\n",
       "    <tr>\n",
       "      <th>25</th>\n",
       "      <td>and I am having a summer vacation right now .</td>\n",
       "      <td>and i am having a summer vacation right now, 3, 0</td>\n",
       "    </tr>\n",
       "    <tr>\n",
       "      <th>26</th>\n",
       "      <td>Thank you in advance .</td>\n",
       "      <td>thank you in advance, 3, 0</td>\n",
       "    </tr>\n",
       "    <tr>\n",
       "      <th>27</th>\n",
       "      <td>I thought that a knowledge is meaningless , if I can not use it .</td>\n",
       "      <td>i thought that a knowledge is meaningless if i can not use it, 6, 0</td>\n",
       "    </tr>\n",
       "    <tr>\n",
       "      <th>28</th>\n",
       "      <td>Japan won by - ! !</td>\n",
       "      <td>japan won by, 7, 7</td>\n",
       "    </tr>\n",
       "    <tr>\n",
       "      <th>29</th>\n",
       "      <td>I am just an amateur on politics but I think it is high time for us to change our political system .</td>\n",
       "      <td>i am just an amateur on politics but i think it is high time for us to change our political system, 4, 0</td>\n",
       "    </tr>\n",
       "    <tr>\n",
       "      <th>30</th>\n",
       "      <td>The size of microscopic organisms is about more than m , therefore , they can not pass through the filter membrane .</td>\n",
       "      <td>the size of microscopic organisms is about more than a therefore they can not pass through the filter membrane, 8, 0</td>\n",
       "    </tr>\n",
       "    <tr>\n",
       "      <th>31</th>\n",
       "      <td>I am and a senior high school student .</td>\n",
       "      <td>i am and a senior high school student, 3, 0</td>\n",
       "    </tr>\n",
       "    <tr>\n",
       "      <th>32</th>\n",
       "      <td>I always send her flowers as her birthday present .</td>\n",
       "      <td>i always send her flowers as her birthday present, 3, 0</td>\n",
       "    </tr>\n",
       "    <tr>\n",
       "      <th>33</th>\n",
       "      <td>I like overseas travel .</td>\n",
       "      <td>i like overseas travel, 3, 0</td>\n",
       "    </tr>\n",
       "    <tr>\n",
       "      <th>34</th>\n",
       "      <td>Thanks to this job , I was busy the whole time today .</td>\n",
       "      <td>thanks to this job i was busy the whole time today, 6, 0</td>\n",
       "    </tr>\n",
       "    <tr>\n",
       "      <th>35</th>\n",
       "      <td>Hello everyone here !</td>\n",
       "      <td>hello everyone here, 3, 1</td>\n",
       "    </tr>\n",
       "    <tr>\n",
       "      <th>36</th>\n",
       "      <td>January I work very hard to complete big subject .</td>\n",
       "      <td>january i work very hard to complete big subject, 4, 0</td>\n",
       "    </tr>\n",
       "    <tr>\n",
       "      <th>37</th>\n",
       "      <td>My Former cram school teacher white e - mail to me .</td>\n",
       "      <td>my former cram school teacher white email to me, 7, 0</td>\n",
       "    </tr>\n",
       "    <tr>\n",
       "      <th>38</th>\n",
       "      <td>Poor little boy .</td>\n",
       "      <td>poor little boy, 3, 0</td>\n",
       "    </tr>\n",
       "    <tr>\n",
       "      <th>39</th>\n",
       "      <td>But we will have series of holidays five days ! !</td>\n",
       "      <td>but we will have series of holidays five days, 5, 0</td>\n",
       "    </tr>\n",
       "  </tbody>\n",
       "</table>\n",
       "</div>"
      ],
      "text/plain": [
       "                                                                                                                                                input  \\\n",
       "0                                                     I believe they will master Japanese soon because they were selected as scholarship recipients .   \n",
       "1                                                                                                                               I am looking for it .   \n",
       "2                                                             Apple is a round fruit with smooth and colorful skin , red , green and sometimes gold .   \n",
       "3                                                                                                                               Let It Will Be Push .   \n",
       "4                                                                                                                   I rode on this ship from Sendai .   \n",
       "5                                                                          I thought Korean is very interesting language when I was sutdying Korean .   \n",
       "6                                                                                                                                 Nobody is perfect .   \n",
       "7                                                                                                                        Can you lend me some money ?   \n",
       "8                                                                                                         Does anyone correct my previous article ?XD   \n",
       "9                         Similarly , I want to thank and for all their help and the nice time spent together , and wish to continue being together .   \n",
       "10                                                                                                         I just hope everything is going to be OK .   \n",
       "11                                                                                      I think that I will not go to that brand shoes shop forever !   \n",
       "12                              for example , one hospital in Japan has ' a baby post ' which mother who can not raise her baby can leave her baby ,    \n",
       "13                                                                                                                     My sister is birthday coming .   \n",
       "14                                                                                                                                  Tell me , please    \n",
       "15                                                                                                                                            see you   \n",
       "16                                                                In order to solve the situation , we decided to have a lunch meeting every Monday .   \n",
       "17                                                                                                               This is my first topic in my diary .   \n",
       "18                                                                                                 it seemed what I did was nothing to do with them .   \n",
       "19  To achieve the purpose , this week I am trying to speak to some foreigners , and I should reduce the occasions to talk with my Japanese friends .   \n",
       "20                                                                                                 The family will support you as what she has done .   \n",
       "21                 Students who turn their efforts to studying at university and have an intention of continuing to play in the college sports team .   \n",
       "22                                                                                                                                  about my hometown   \n",
       "23                                                                                             As I expected , I could not do well in the interview .   \n",
       "24                                                                                                                                       I loved it .   \n",
       "25                                                                                                      and I am having a summer vacation right now .   \n",
       "26                                                                                                                             Thank you in advance .   \n",
       "27                                                                                  I thought that a knowledge is meaningless , if I can not use it .   \n",
       "28                                                                                                                                 Japan won by - ! !   \n",
       "29                                               I am just an amateur on politics but I think it is high time for us to change our political system .   \n",
       "30                               The size of microscopic organisms is about more than m , therefore , they can not pass through the filter membrane .   \n",
       "31                                                                                                            I am and a senior high school student .   \n",
       "32                                                                                                I always send her flowers as her birthday present .   \n",
       "33                                                                                                                           I like overseas travel .   \n",
       "34                                                                                             Thanks to this job , I was busy the whole time today .   \n",
       "35                                                                                                                              Hello everyone here !   \n",
       "36                                                                                                 January I work very hard to complete big subject .   \n",
       "37                                                                                               My Former cram school teacher white e - mail to me .   \n",
       "38                                                                                                                                  Poor little boy .   \n",
       "39                                                                                                  But we will have series of holidays five days ! !   \n",
       "\n",
       "                                                                                                                                    corrected_sentence  \n",
       "0                                                  i believe they will master japanese soon because they were selected as scholarship recipients, 4, 0  \n",
       "1                                                                                                                            i am looking for it, 3, 0  \n",
       "2                                                             apple is a round fruit with smooth and colourful skin red green and sometimes gold, 8, 0  \n",
       "3                                                                                                                            let it will be push, 7, 0  \n",
       "4                                                                                                                i rode on this ship from sendai, 4, 0  \n",
       "5                                                                       i thought korean is very interesting language when i was studying korean, 7, 0  \n",
       "6                                                                                                                              nobody is perfect, 3, 3  \n",
       "7                                                                                                                     can you lend me some money, 3, 0  \n",
       "8                                                                                                     does anyone correct my previous article cd, 4, 0  \n",
       "9                          similarly i want to thank and for all their help and the nice time spent together and wish to continue being together, 8, 0  \n",
       "10                                                                                                      i just hope everything is going to be of, 5, 0  \n",
       "11                                                                                   i think that i will not go to that brand shoes shop forever, 4, 0  \n",
       "12                                 for example one hospital in japan has a baby post which mother who can not raise her baby can leave her baby, 10, 0  \n",
       "13                                                                                                                  my sister is birthday coming, 3, 0  \n",
       "14                                                                                                                               tell me please, 4, 22  \n",
       "15                                                                                                                                 see you, 0, 1992011  \n",
       "16                                                               in order to solve the situation we decided to have a lunch meeting every monday, 6, 0  \n",
       "17                                                                                                            this is my first topic in my diary, 3, 0  \n",
       "18                                                                                              it seemed what i did was nothing to do with them, 3, 0  \n",
       "19  to achieve the purpose this week i am trying to speak to some foreigners and i should reduce the occasions to talk with my japanese friends, 10, 0  \n",
       "20                                                                                              the family will support you as what she has done, 3, 0  \n",
       "21              students who turn their efforts to studying at university and have an intention of continuing to play in the college sports team, 3, 0  \n",
       "22                                                                                                                             about my hometown, 0, 6  \n",
       "23                                                                                            as i expected i could not do well in the interview, 7, 0  \n",
       "24                                                                                                                                  i loved it, 3, 162  \n",
       "25                                                                                                   and i am having a summer vacation right now, 3, 0  \n",
       "26                                                                                                                          thank you in advance, 3, 0  \n",
       "27                                                                                 i thought that a knowledge is meaningless if i can not use it, 6, 0  \n",
       "28                                                                                                                                  japan won by, 7, 7  \n",
       "29                                            i am just an amateur on politics but i think it is high time for us to change our political system, 4, 0  \n",
       "30                                the size of microscopic organisms is about more than a therefore they can not pass through the filter membrane, 8, 0  \n",
       "31                                                                                                         i am and a senior high school student, 3, 0  \n",
       "32                                                                                             i always send her flowers as her birthday present, 3, 0  \n",
       "33                                                                                                                        i like overseas travel, 3, 0  \n",
       "34                                                                                            thanks to this job i was busy the whole time today, 6, 0  \n",
       "35                                                                                                                           hello everyone here, 3, 1  \n",
       "36                                                                                              january i work very hard to complete big subject, 4, 0  \n",
       "37                                                                                               my former cram school teacher white email to me, 7, 0  \n",
       "38                                                                                                                               poor little boy, 3, 0  \n",
       "39                                                                                                 but we will have series of holidays five days, 5, 0  "
      ]
     },
     "execution_count": 34,
     "metadata": {},
     "output_type": "execute_result"
    }
   ],
   "source": [
    "test_df['corrected_sentence'] = test_df['input'].apply(lambda text: symspelly_corrector(text))\n",
    "test_df.head(40)"
   ]
  },
  {
   "cell_type": "markdown",
   "metadata": {},
   "source": [
    "## Combining GingerIt with Bert"
   ]
  },
  {
   "cell_type": "code",
   "execution_count": 1,
   "metadata": {},
   "outputs": [
    {
     "ename": "NameError",
     "evalue": "name 'test_df' is not defined",
     "output_type": "error",
     "traceback": [
      "\u001B[0;31m---------------------------------------------------------------------------\u001B[0m",
      "\u001B[0;31mNameError\u001B[0m                                 Traceback (most recent call last)",
      "\u001B[0;32m/tmp/ipykernel_34737/3417757516.py\u001B[0m in \u001B[0;36m<module>\u001B[0;34m\u001B[0m\n\u001B[0;32m----> 1\u001B[0;31m \u001B[0mtest_df\u001B[0m\u001B[0;34m[\u001B[0m\u001B[0;34m'ginger_corrected_sentence'\u001B[0m\u001B[0;34m]\u001B[0m \u001B[0;34m=\u001B[0m \u001B[0mtest_df\u001B[0m\u001B[0;34m[\u001B[0m\u001B[0;34m'input'\u001B[0m\u001B[0;34m]\u001B[0m\u001B[0;34m.\u001B[0m\u001B[0mapply\u001B[0m\u001B[0;34m(\u001B[0m\u001B[0;32mlambda\u001B[0m \u001B[0mtext\u001B[0m\u001B[0;34m:\u001B[0m \u001B[0mginger_corrector\u001B[0m\u001B[0;34m(\u001B[0m\u001B[0mtext\u001B[0m\u001B[0;34m)\u001B[0m\u001B[0;34m)\u001B[0m\u001B[0;34m\u001B[0m\u001B[0;34m\u001B[0m\u001B[0m\n\u001B[0m\u001B[1;32m      2\u001B[0m \u001B[0mtest_df\u001B[0m\u001B[0;34m[\u001B[0m\u001B[0;34m'combined_with_bert_corrected_sentence'\u001B[0m\u001B[0;34m]\u001B[0m \u001B[0;34m=\u001B[0m \u001B[0mtest_df\u001B[0m\u001B[0;34m[\u001B[0m\u001B[0;34m'ginger_corrected_sentence'\u001B[0m\u001B[0;34m]\u001B[0m\u001B[0;34m.\u001B[0m\u001B[0mapply\u001B[0m\u001B[0;34m(\u001B[0m\u001B[0;32mlambda\u001B[0m \u001B[0mtext\u001B[0m\u001B[0;34m:\u001B[0m \u001B[0mhuggingface_corrector\u001B[0m\u001B[0;34m(\u001B[0m\u001B[0mtext\u001B[0m\u001B[0;34m)\u001B[0m\u001B[0;34m)\u001B[0m\u001B[0;34m\u001B[0m\u001B[0;34m\u001B[0m\u001B[0m\n\u001B[1;32m      3\u001B[0m \u001B[0mtest_df\u001B[0m\u001B[0;34m.\u001B[0m\u001B[0mhead\u001B[0m\u001B[0;34m(\u001B[0m\u001B[0;36m40\u001B[0m\u001B[0;34m)\u001B[0m\u001B[0;34m\u001B[0m\u001B[0;34m\u001B[0m\u001B[0m\n",
      "\u001B[0;31mNameError\u001B[0m: name 'test_df' is not defined"
     ]
    }
   ],
   "source": [
    "test_df['ginger_corrected_sentence'] = test_df['input'].apply(lambda text: ginger_corrector(text))\n",
    "test_df['combined_with_bert_corrected_sentence'] = test_df['ginger_corrected_sentence'].apply(lambda text: huggingface_corrector(text))\n",
    "test_df.head(40)"
   ]
  },
  {
   "cell_type": "markdown",
   "source": [
    "#### on dataset2"
   ],
   "metadata": {
    "collapsed": false
   }
  },
  {
   "cell_type": "code",
   "execution_count": 15,
   "metadata": {},
   "outputs": [],
   "source": [
    "path = \"spell error detection/\"\n",
    "\n",
    "real_files = ['test.1blm', 'test.bea20k', 'test.bea322', 'test.bea4660', 'test.bea4k', 'test.bea60k', 'test.jfleg', 'train.bea40k']"
   ]
  },
  {
   "cell_type": "code",
   "execution_count": 20,
   "outputs": [],
   "source": [
    "import os\n",
    "import time\n",
    "\n",
    "analysis_data = {'error': [], 'real_correct': [], 'predicted_correct': [], 'diff_r': [], 'diff_p': []}\n",
    "for f in real_files:\n",
    "    with open(path + f) as file:\n",
    "        error_file = path + f + '.noise'\n",
    "        if not os.path.isfile(error_file):\n",
    "            error_file = path + f + '.noise.prob'\n",
    "        errors_lines =  f = open(error_file,'r').readlines()\n",
    "        real_lines = file.readlines()\n",
    "        for i in range(20):\n",
    "            time.sleep(0.25)\n",
    "            analysis_data['error'].append(errors_lines[i].strip())\n",
    "            analysis_data['real_correct'].append(real_lines[i].strip())\n",
    "            predicted = huggingface_corrector(parser.parse(errors_lines[i].strip())['result'])\n",
    "            analysis_data['predicted_correct'].append(predicted)\n",
    "            analysis_data['diff_r'].append(set(real_lines[i].split()).difference(set(errors_lines[i].split())))\n",
    "            analysis_data['diff_p'].append(set(predicted.split()).difference(set(errors_lines[i].split())))"
   ],
   "metadata": {
    "collapsed": false
   }
  },
  {
   "cell_type": "code",
   "execution_count": 22,
   "outputs": [],
   "source": [
    "data = pd.DataFrame(analysis_data)\n",
    "data.to_csv(path + 'error_analysis2.csv', index=False)"
   ],
   "metadata": {
    "collapsed": false
   }
  }
 ],
 "metadata": {
  "kernelspec": {
   "display_name": "Python 3.7.11 ('corrector-env')",
   "language": "python",
   "name": "python3"
  },
  "language_info": {
   "codemirror_mode": {
    "name": "ipython",
    "version": 3
   },
   "file_extension": ".py",
   "mimetype": "text/x-python",
   "name": "python",
   "nbconvert_exporter": "python",
   "pygments_lexer": "ipython3",
   "version": "3.7.11"
  },
  "orig_nbformat": 4,
  "vscode": {
   "interpreter": {
    "hash": "9abbb2f9ff9489bff851d7bc026768033112268da968bf2b2901d2bfbdd8a580"
   }
  }
 },
 "nbformat": 4,
 "nbformat_minor": 2
}
